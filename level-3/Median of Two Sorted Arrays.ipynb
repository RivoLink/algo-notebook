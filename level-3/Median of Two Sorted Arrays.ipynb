{
 "cells": [
  {
   "cell_type": "markdown",
   "metadata": {},
   "source": [
    "### Median of Two Sorted Arrays\n",
    "\n",
    "There are two sorted arrays nums1 and nums2 of size m and n respectively.\n",
    "\n",
    "Find the median of the two sorted arrays. The overall run time complexity should be 0(log (m+n)).\n",
    "\n",
    "You may assume nums1 and nums2 cannot be both empty."
   ]
  },
  {
   "cell_type": "markdown",
   "metadata": {},
   "source": [
    "### Example\n",
    "\n",
    "#### Example 1\n",
    "nums1 [1, 3] \\\n",
    "nums2 [2] \\\n",
    "The median is 2.0\n",
    "\n",
    "#### Example 2\n",
    "nums1 [1, 2] \\\n",
    "nums2 = [3, 4] \\\n",
    "The median is (2+3)/2 = 2.5"
   ]
  },
  {
   "cell_type": "markdown",
   "metadata": {},
   "source": [
    "### Solution"
   ]
  },
  {
   "cell_type": "code",
   "execution_count": 1,
   "metadata": {},
   "outputs": [
    {
     "name": "stdout",
     "output_type": "stream",
     "text": [
      "3\n"
     ]
    }
   ],
   "source": [
    "def mtsa(A, B):\n",
    "    m = len(A)\n",
    "    n = len(B)\n",
    "    \n",
    "    #ensure m<n\n",
    "    if not m<n:\n",
    "        m, n = n, m\n",
    "        A, B = B, A\n",
    "        \n",
    "    iMin = 0\n",
    "    iMax = m\n",
    "    halfLen = int((m+n+1)/2)\n",
    "    \n",
    "    while iMin <= iMax:\n",
    "        i = int((iMin+iMax)/2)\n",
    "        j = halfLen-i\n",
    "        \n",
    "        if i < iMax and B[j-1] > A[i]:\n",
    "            iMin = i+1 # i is too small\n",
    "            \n",
    "        elif i > iMin and A[i-1] > B[j]:\n",
    "            iMax = i-1 # i is too big\n",
    "            \n",
    "        else: #i is perfect\n",
    "            maxLeft = 0\n",
    "            if i == 0: maxLeft = B[j-1]\n",
    "            elif j == 0: maxLeft = A[i-1]\n",
    "            else: maxLeft = max(B[j-1], A[i-1])\n",
    "            if (m+n)%2 == 1: return maxLeft\n",
    "            \n",
    "            minRight = 0\n",
    "            if i == m: minRight = B[j]\n",
    "            elif j == n: minRight = A[i]\n",
    "            else: minRight = min(B[j], A[i])\n",
    "\n",
    "            return (maxLeft+minRight)/2\n",
    "    \n",
    "    return 0\n",
    "\n",
    "print(mtsa([1,2,5], [3,4]))"
   ]
  },
  {
   "cell_type": "markdown",
   "metadata": {},
   "source": [
    "### Test"
   ]
  },
  {
   "cell_type": "code",
   "execution_count": 2,
   "metadata": {
    "scrolled": true
   },
   "outputs": [
    {
     "name": "stdout",
     "output_type": "stream",
     "text": [
      "[1, 3] [2]\n",
      "median: 2\n",
      "\n",
      "[1, 2] [3, 4]\n",
      "median: 2.5\n",
      "\n",
      "[1, 3, 5] [4, 6]\n",
      "median: 4\n",
      "\n",
      "[1, 3, 5] [7, 6, 9]\n",
      "median: 6.0\n",
      "\n"
     ]
    }
   ],
   "source": [
    "def test(A, B):\n",
    "    median = mtsa(A, B)\n",
    "    \n",
    "    print(\"{} {}\".format(A, B))\n",
    "    print(\"median: {}\".format(median))\n",
    "    print()\n",
    "    \n",
    "# example test 1\n",
    "test([1, 3], [2])\n",
    "\n",
    "# example test 2\n",
    "test([1, 2], [3, 4])\n",
    "\n",
    "# joint arrays\n",
    "test([1, 3, 5], [4, 6])\n",
    "\n",
    "# disjoint arrays\n",
    "test([1, 3, 5], [7, 6, 9])\n"
   ]
  }
 ],
 "metadata": {
  "kernelspec": {
   "display_name": "Python 3",
   "language": "python",
   "name": "python3"
  },
  "language_info": {
   "codemirror_mode": {
    "name": "ipython",
    "version": 3
   },
   "file_extension": ".py",
   "mimetype": "text/x-python",
   "name": "python",
   "nbconvert_exporter": "python",
   "pygments_lexer": "ipython3",
   "version": "3.8.3"
  }
 },
 "nbformat": 4,
 "nbformat_minor": 4
}
