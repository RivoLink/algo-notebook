{
 "cells": [
  {
   "cell_type": "markdown",
   "metadata": {},
   "source": [
    "### Merge k Sorted Lists\n",
    "\n",
    "Merge k sorted linked lists and return it as one sorted list. Analyze and describe its complexity.\n"
   ]
  },
  {
   "cell_type": "markdown",
   "metadata": {},
   "source": [
    "### Example\n",
    "\n",
    "Input: 1->4->5, 1->3->4, 2->6 \\\n",
    "Output: 1->1->2->3->4->4->5->6\n"
   ]
  },
  {
   "cell_type": "markdown",
   "metadata": {},
   "source": [
    "### Solution"
   ]
  },
  {
   "cell_type": "code",
   "execution_count": 1,
   "metadata": {},
   "outputs": [],
   "source": [
    "from math import inf"
   ]
  },
  {
   "cell_type": "code",
   "execution_count": 2,
   "metadata": {},
   "outputs": [],
   "source": [
    "class ListNode:\n",
    "\n",
    "    def __init__(self, data):\n",
    "        self.data = data\n",
    "        self.next = None\n",
    "\n",
    "    def __str__(self):\n",
    "        s, temp = '', self\n",
    "        while temp:\n",
    "            s += str(temp.data)\n",
    "            temp = temp.next\n",
    "\n",
    "            if temp:\n",
    "                s += '->'\n",
    "\n",
    "        return s\n"
   ]
  },
  {
   "cell_type": "code",
   "execution_count": 3,
   "metadata": {},
   "outputs": [],
   "source": [
    "def mksl(heads):\n",
    "    \n",
    "    merged = ListNode(-1)\n",
    "    temp = merged\n",
    "    \n",
    "    while len(heads) > 1:\n",
    "        \n",
    "        imin, vmin = 0, inf\n",
    "        \n",
    "        for i,l in enumerate(heads):\n",
    "            \n",
    "            if l.data < vmin:\n",
    "                imin = i\n",
    "                vmin = l.data\n",
    "                \n",
    "        temp.next = heads[imin]\n",
    "        temp = temp.next\n",
    "        heads[imin] = heads[imin].next\n",
    "        \n",
    "        if not heads[imin]:\n",
    "            heads.pop(imin)\n",
    "\n",
    "    temp.next = heads[0]\n",
    "    return merged.next\n"
   ]
  },
  {
   "cell_type": "markdown",
   "metadata": {},
   "source": [
    "### Test"
   ]
  },
  {
   "cell_type": "code",
   "execution_count": 4,
   "metadata": {},
   "outputs": [
    {
     "name": "stdout",
     "output_type": "stream",
     "text": [
      "1->4->5\n",
      "1->3->4\n",
      "2->6\n",
      "1->1->2->3->4->4->5->6\n"
     ]
    }
   ],
   "source": [
    "# example test \n",
    "\n",
    "head1 = ListNode(1)\n",
    "temp = head1\n",
    "for i in [4, 5]:\n",
    "    temp.next = ListNode(i)\n",
    "    temp = temp.next\n",
    "\n",
    "head2 = ListNode(1)\n",
    "temp = head2\n",
    "for i in [3, 4]:\n",
    "    temp.next = ListNode(i)\n",
    "    temp = temp.next\n",
    "\n",
    "head3 = ListNode(2)\n",
    "temp = head3\n",
    "for i in [6]:\n",
    "    temp.next = ListNode(i)\n",
    "    temp = temp.next\n",
    "\n",
    "print(head1)\n",
    "print(head2)\n",
    "print(head3)\n",
    "print(mksl([head1, head2, head3]))\n"
   ]
  },
  {
   "cell_type": "code",
   "execution_count": 5,
   "metadata": {},
   "outputs": [
    {
     "name": "stdout",
     "output_type": "stream",
     "text": [
      "0->2->4->6->8->10\n",
      "1->3->5->7->9\n",
      "0->1->2->3->4->5->6->7->8->9->10\n"
     ]
    }
   ],
   "source": [
    "# test \n",
    "\n",
    "head1 = ListNode(0)\n",
    "temp = head1\n",
    "for i in range(2, 11, 2):\n",
    "    temp.next = ListNode(i)\n",
    "    temp = temp.next\n",
    "\n",
    "head2 = ListNode(1)\n",
    "temp = head2\n",
    "for i in range(3, 10, 2):\n",
    "    temp.next = ListNode(i)\n",
    "    temp = temp.next\n",
    "\n",
    "print(head1)\n",
    "print(head2)\n",
    "print(mksl([head1, head2]))\n"
   ]
  }
 ],
 "metadata": {
  "kernelspec": {
   "display_name": "Python 3",
   "language": "python",
   "name": "python3"
  },
  "language_info": {
   "codemirror_mode": {
    "name": "ipython",
    "version": 3
   },
   "file_extension": ".py",
   "mimetype": "text/x-python",
   "name": "python",
   "nbconvert_exporter": "python",
   "pygments_lexer": "ipython3",
   "version": "3.8.3"
  }
 },
 "nbformat": 4,
 "nbformat_minor": 4
}
