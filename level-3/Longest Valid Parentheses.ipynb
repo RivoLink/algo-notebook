{
 "cells": [
  {
   "cell_type": "markdown",
   "metadata": {},
   "source": [
    "### Longest Valid Parentheses\n",
    "\n",
    "Given a string containing just the characters '(' and ')', find the length of the longest valid (well -formed) parentheses substring.\n"
   ]
  },
  {
   "cell_type": "markdown",
   "metadata": {},
   "source": [
    "### Example\n",
    "\n",
    "#### Example 1\n",
    "Input: \"(()\" \\\n",
    "Output: 2 \\\n",
    "Explanation: The longest valid parentheses substring is \"()\"\n",
    "\n",
    "#### Example 2\n",
    "Input: \")()())\" \\\n",
    "Output: 4 \\\n",
    "Explanation; The longest valid parentheses substring is \"()()\"\n"
   ]
  },
  {
   "cell_type": "markdown",
   "metadata": {},
   "source": [
    "### Solution"
   ]
  },
  {
   "cell_type": "code",
   "execution_count": 1,
   "metadata": {},
   "outputs": [
    {
     "name": "stdout",
     "output_type": "stream",
     "text": [
      "8\n"
     ]
    }
   ],
   "source": [
    "def is_valid(text, i):\n",
    "    if 0 <= i < len(text)-1:\n",
    "        return text[i]+text[i+1] == '()'\n",
    "    \n",
    "    return False\n",
    "\n",
    "def next_pos(text, pos):\n",
    "    if is_valid(text, pos): #right\n",
    "        return pos\n",
    "    elif is_valid(text, pos-1): #parent\n",
    "        return pos-1\n",
    "    elif is_valid(text, pos-2): #left\n",
    "        return pos-2\n",
    "    else:\n",
    "        return -1\n",
    "    \n",
    "def lvp(text):\n",
    "    result, l = 0, len(text)\n",
    "    \n",
    "    alli = [i for i in range(l) if is_valid(text, i)]\n",
    "    \n",
    "    for i in alli:\n",
    "        count = 1\n",
    "        s = text[:i] + text[i+2:]\n",
    "        nxt = next_pos(s, i)\n",
    "        \n",
    "        while nxt >= 0:\n",
    "            count += 1\n",
    "            s = s[:nxt] + s[nxt+2:]\n",
    "            nxt = next_pos(s, nxt)\n",
    "            \n",
    "        if result < count*2:\n",
    "            result = count*2\n",
    "    \n",
    "    return result\n",
    "\n",
    "print(lvp('()(()())'))"
   ]
  },
  {
   "cell_type": "markdown",
   "metadata": {},
   "source": [
    "### Test"
   ]
  },
  {
   "cell_type": "code",
   "execution_count": 2,
   "metadata": {},
   "outputs": [
    {
     "name": "stdout",
     "output_type": "stream",
     "text": [
      "i: \"(()\"\n",
      "o: 2\n",
      "\n",
      "i: \")()())\"\n",
      "o: 4\n",
      "\n",
      "i: \"()(()())\"\n",
      "o: 8\n",
      "\n"
     ]
    }
   ],
   "source": [
    "def test(text):\n",
    "    result = lvp(text)\n",
    "    \n",
    "    print('i: \"{}\"'.format(text))\n",
    "    print('o: {}'.format(result))\n",
    "    print()\n",
    "    \n",
    "# example test 1\n",
    "test('(()')\n",
    "\n",
    "# example test 2\n",
    "test(')()())')\n",
    "\n",
    "# test\n",
    "test('()(()())')\n"
   ]
  }
 ],
 "metadata": {
  "kernelspec": {
   "display_name": "Python 3",
   "language": "python",
   "name": "python3"
  },
  "language_info": {
   "codemirror_mode": {
    "name": "ipython",
    "version": 3
   },
   "file_extension": ".py",
   "mimetype": "text/x-python",
   "name": "python",
   "nbconvert_exporter": "python",
   "pygments_lexer": "ipython3",
   "version": "3.8.3"
  }
 },
 "nbformat": 4,
 "nbformat_minor": 4
}
