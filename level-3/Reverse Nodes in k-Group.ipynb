{
 "cells": [
  {
   "cell_type": "markdown",
   "metadata": {},
   "source": [
    "### Reverse Nodes in k-Group\n",
    "Given a linked list, reverse the nodes of a linked list k at a time and return its modified list.\n",
    "\n",
    "k is a positive integer and is less than or equal to the length of the linked list. If the number of nodes is not a multiple of k then left-out nodes in the end should remain as it is.\n"
   ]
  },
  {
   "cell_type": "markdown",
   "metadata": {},
   "source": [
    "### Example\n",
    "Given this linked list: \\\n",
    "1->2->3->4->5\n",
    "\n",
    "For k = 2, you should return: \\\n",
    "2->1->4->3->5\n",
    "\n",
    "For k = 3, you should return \\\n",
    "3->2->1->4->5\n",
    "\n",
    "#### Note\n",
    "Only constant extra memory is allowed.\\\n",
    "You may not alter the values in the\n",
    "list's nodes, only nodes itself may\n",
    "be changed.\n"
   ]
  },
  {
   "cell_type": "markdown",
   "metadata": {},
   "source": [
    "### Solution"
   ]
  },
  {
   "cell_type": "code",
   "execution_count": 1,
   "metadata": {},
   "outputs": [],
   "source": [
    "class ListNode:\n",
    "    \n",
    "    def __init__(self, data):\n",
    "        self.data = data\n",
    "        self.next = None\n",
    "        \n",
    "    def __str__(self):\n",
    "        s, temp = '', self\n",
    "        while temp:\n",
    "            s += str(temp.data)\n",
    "            temp = temp.next\n",
    "            \n",
    "            if temp:\n",
    "                s += '->'\n",
    "                \n",
    "        return s\n"
   ]
  },
  {
   "cell_type": "code",
   "execution_count": 2,
   "metadata": {},
   "outputs": [],
   "source": [
    "def rnkg(head, k):\n",
    "    \n",
    "    count, next_head = 0, head\n",
    "    \n",
    "    while next_head and count != k:\n",
    "        next_head = next_head.next\n",
    "        count += 1\n",
    "        \n",
    "    if count != k:\n",
    "        return head\n",
    "    \n",
    "    new_head = rnkg(next_head, k)\n",
    "    \n",
    "    while count > 0:\n",
    "        temp = head.next\n",
    "        head.next = new_head\n",
    "        new_head = head\n",
    "        head = temp\n",
    "        count -= 1\n",
    "        \n",
    "    return new_head\n"
   ]
  },
  {
   "cell_type": "markdown",
   "metadata": {},
   "source": [
    "### Test"
   ]
  },
  {
   "cell_type": "code",
   "execution_count": 3,
   "metadata": {},
   "outputs": [
    {
     "name": "stdout",
     "output_type": "stream",
     "text": [
      "i: 1->2->3->4->5, k=2\n",
      "o: 2->1->4->3->5\n"
     ]
    }
   ],
   "source": [
    "# example test for k = 2\n",
    "\n",
    "head = ListNode(1)\n",
    "temp = head\n",
    "\n",
    "for i in range(2,6):\n",
    "    temp.next = ListNode(i)\n",
    "    temp = temp.next\n",
    "    \n",
    "print(\"i: {}, k=2\".format(head))\n",
    "print(\"o: {}\".format(rnkg(head, 2)))\n"
   ]
  },
  {
   "cell_type": "code",
   "execution_count": 4,
   "metadata": {},
   "outputs": [
    {
     "name": "stdout",
     "output_type": "stream",
     "text": [
      "i: 1->2->3->4->5, k=3\n",
      "o: 3->2->1->4->5\n"
     ]
    }
   ],
   "source": [
    "# example test for k = 3\n",
    "\n",
    "head = ListNode(1)\n",
    "temp = head\n",
    "\n",
    "for i in range(2,6):\n",
    "    temp.next = ListNode(i)\n",
    "    temp = temp.next\n",
    "    \n",
    "print(\"i: {}, k=3\".format(head))\n",
    "print(\"o: {}\".format(rnkg(head, 3)))\n"
   ]
  }
 ],
 "metadata": {
  "kernelspec": {
   "display_name": "Python 3",
   "language": "python",
   "name": "python3"
  },
  "language_info": {
   "codemirror_mode": {
    "name": "ipython",
    "version": 3
   },
   "file_extension": ".py",
   "mimetype": "text/x-python",
   "name": "python",
   "nbconvert_exporter": "python",
   "pygments_lexer": "ipython3",
   "version": "3.8.3"
  }
 },
 "nbformat": 4,
 "nbformat_minor": 4
}
