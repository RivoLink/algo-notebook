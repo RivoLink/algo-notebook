{
 "cells": [
  {
   "cell_type": "markdown",
   "metadata": {},
   "source": [
    "### Regular Expression Matching\n",
    "\n",
    "Given an input string (s) and a pattern (p), implement regular expression matching with support for '.' and '*'\n",
    "\n",
    "'.' Matches any single character. \\\n",
    "'*' Matches zero or more of the\n",
    "preceding element.\n",
    "\n",
    "The matching should cover entire input string (not partial).\n",
    "\n",
    "#### Note:\n",
    "S could be empty and contains only lowercase letters a-z. \\\n",
    "p could be empty and contains only lowercase letters a-z, and characters like . or \\*\n",
    "\n",
    "\n"
   ]
  },
  {
   "cell_type": "markdown",
   "metadata": {},
   "source": [
    "### Example\n",
    "\n",
    "#### Example 1\n",
    "Input: \\\n",
    "s \"aa\" \\\n",
    "p \"a\" \\\n",
    "Output: false \\\n",
    "Explanation: \"a\" does not match the entire string \"aa\".\n",
    "\n",
    "#### Example 2\n",
    "Input: \\\n",
    "s \"aa\" \\\n",
    "p \"a\\*\" \\\n",
    "Output: true \\\n",
    "Explanation: \\* means zero or more of the precedeng element, 'a'. \\\n",
    "Therefore, by repeating 'a' once, it becomes \"aa\".\n",
    "\n",
    "#### Example 3\n",
    "Input: \\\n",
    "s \"ab\" \\\n",
    "p \".\\*\" \\\n",
    "Output: true \\\n",
    "Explanation: \".\\*\" means \"zero or more (\\*) of any character (.)\".\n",
    "\n",
    "#### Example 4\n",
    "Input: \\\n",
    "s \"aab\" \\\n",
    "p \"c\\*a\\*b\" \\\n",
    "Output : true \\\n",
    "Explanation: C can be repeated 0 times, a can be repeated 1 time. Therefore it matches \"aab\".\n",
    "\n",
    "#### Example 5\n",
    "Input: \\\n",
    "s \"mississippi\" \\\n",
    "p \"mis\\*is\\*p\\*.\" \\\n",
    "Output: false\n",
    "\n",
    "\n"
   ]
  },
  {
   "cell_type": "markdown",
   "metadata": {},
   "source": [
    "### Solution"
   ]
  },
  {
   "cell_type": "code",
   "execution_count": 1,
   "metadata": {},
   "outputs": [
    {
     "name": "stdout",
     "output_type": "stream",
     "text": [
      "True\n"
     ]
    }
   ],
   "source": [
    "def rem(text, pattern):\n",
    "    \n",
    "    pi, p, pl = 0, pattern[0], len(pattern)\n",
    "    \n",
    "    for ti,t in enumerate(text):\n",
    "        \n",
    "        if pi < pl:\n",
    "            p = pattern[pi]\n",
    "        else:\n",
    "            return False\n",
    "        \n",
    "        if t == p or p == '.':\n",
    "            pi = pi + 1\n",
    "            continue\n",
    "            \n",
    "        elif pi+2 < pl and pattern[pi+1] == '*' and pattern[pi+2] == t:\n",
    "            pi = pi + 3\n",
    "            continue\n",
    "            \n",
    "        if p == '*':\n",
    "            if 0 <= ti-1 and t == text[ti-1]:\n",
    "                continue\n",
    "            elif 0 <= pi-1 and pattern[pi-1] == '.':\n",
    "                continue\n",
    "            elif pi+1 < pl and (pattern[pi+1] == t or pattern[pi+1] == '.'):\n",
    "                pi = pi + 2\n",
    "                continue\n",
    "                \n",
    "        return False\n",
    "    \n",
    "    return True\n",
    "            \n",
    "print(rem(\"mississippi\", \"mis*is*ip*.\"))"
   ]
  },
  {
   "cell_type": "markdown",
   "metadata": {},
   "source": [
    "### Test"
   ]
  },
  {
   "cell_type": "code",
   "execution_count": 2,
   "metadata": {},
   "outputs": [
    {
     "name": "stdout",
     "output_type": "stream",
     "text": [
      "s: aa\n",
      "p: a\n",
      "o: False\n",
      "\n",
      "s: aa\n",
      "p: a*\n",
      "o: True\n",
      "\n",
      "s: ab\n",
      "p: .*\n",
      "o: True\n",
      "\n",
      "s: aab\n",
      "p: c*a*b\n",
      "o: True\n",
      "\n",
      "s: mississippi\n",
      "p: mis*is*p*.\n",
      "o: False\n",
      "\n",
      "s: mississippi\n",
      "p: mis*.s*ip*.\n",
      "o: True\n",
      "\n"
     ]
    }
   ],
   "source": [
    "def test(text, pattern):\n",
    "    result = rem(text, pattern)\n",
    "    \n",
    "    print(\"s: {}\".format(text))\n",
    "    print(\"p: {}\".format(pattern))\n",
    "    print(\"o: {}\".format(result))\n",
    "    print()\n",
    "    \n",
    "# example test 1\n",
    "test(\"aa\", \"a\")\n",
    "\n",
    "# example test 2\n",
    "test(\"aa\",\"a*\")\n",
    "\n",
    "# example test 3\n",
    "test(\"ab\", \".*\")\n",
    "\n",
    "# example test 4\n",
    "test(\"aab\", \"c*a*b\")\n",
    "\n",
    "# example test 5\n",
    "test(\"mississippi\", \"mis*is*p*.\")\n",
    "\n",
    "# test \n",
    "test(\"mississippi\", \"mis*.s*ip*.\")\n"
   ]
  }
 ],
 "metadata": {
  "kernelspec": {
   "display_name": "Python 3",
   "language": "python",
   "name": "python3"
  },
  "language_info": {
   "codemirror_mode": {
    "name": "ipython",
    "version": 3
   },
   "file_extension": ".py",
   "mimetype": "text/x-python",
   "name": "python",
   "nbconvert_exporter": "python",
   "pygments_lexer": "ipython3",
   "version": "3.8.3"
  }
 },
 "nbformat": 4,
 "nbformat_minor": 4
}
