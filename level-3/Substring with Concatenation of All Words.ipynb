{
 "cells": [
  {
   "cell_type": "markdown",
   "metadata": {},
   "source": [
    "### Substring with Concatenation of All Words\n",
    "\n",
    "You are given a string, s, and a list of words, words, that are all of the same length. Find all starting indices of substring(s) in s that is a concatenation of each word in words exactly once and without any intervening characters.\n"
   ]
  },
  {
   "cell_type": "markdown",
   "metadata": {},
   "source": [
    "### Example\n",
    "\n",
    "#### Example 1\n",
    "Input: s=\"barfoothefoobarman\", words=[\"foo\", \"bar\"] \\\n",
    "Output: [0,9] \\\n",
    "Explanation: Substrings starting at index 0 and 9 are \"barfoo\" and \"foobar\" respectively.\n",
    "The output order does not matter, returning [9,0] is fine too.\n",
    "\n",
    "#### Example 2\n",
    "Input: s=\"wordgoodstudentgoodword\", words=[\"word\", \"student\"] \\\n",
    "Output: []\n"
   ]
  },
  {
   "cell_type": "markdown",
   "metadata": {},
   "source": [
    "### Solution"
   ]
  },
  {
   "cell_type": "code",
   "execution_count": 1,
   "metadata": {},
   "outputs": [
    {
     "name": "stdout",
     "output_type": "stream",
     "text": [
      "[0, 9]\n"
     ]
    }
   ],
   "source": [
    "def scaw(s, words):\n",
    "    dic, result = {}, []\n",
    "    \n",
    "    for w in words:\n",
    "        if w in dic:\n",
    "            dic[w] += 1\n",
    "        else:\n",
    "            dic[w] = 1\n",
    "    \n",
    "    wlen = len(words[0])\n",
    "    offset = 1 + len(s) - wlen*len(words)\n",
    "    \n",
    "    for i in range(offset):\n",
    "        copy = dic.copy()\n",
    "        \n",
    "        for j in range(len(words)):\n",
    "            key = s[i + j*wlen : i + j*wlen + wlen]\n",
    "            \n",
    "            if key in copy:\n",
    "                if copy[key] == 1:\n",
    "                    copy.pop(key)\n",
    "                else:\n",
    "                    copy[key] -= 1\n",
    "                \n",
    "                if not len(copy):\n",
    "                    result.append(i)\n",
    "                    break\n",
    "            else:\n",
    "                break\n",
    "                    \n",
    "    return result\n",
    "    \n",
    "print(scaw(\"barfoothefoobarman\", [\"foo\", \"bar\"]))"
   ]
  },
  {
   "cell_type": "markdown",
   "metadata": {},
   "source": [
    "### Test"
   ]
  },
  {
   "cell_type": "code",
   "execution_count": 2,
   "metadata": {},
   "outputs": [
    {
     "name": "stdout",
     "output_type": "stream",
     "text": [
      "s=\"barfoothefoobarman\", words=['foo', 'bar']\n",
      "positions=[0, 9]\n",
      "\n",
      "s=\"wordgoodstudentgoodword\", words=['word', 'student']\n",
      "positions=[]\n",
      "\n",
      "s=\"studentgoodword\", words=['word', 'good']\n",
      "positions=[7]\n",
      "\n"
     ]
    }
   ],
   "source": [
    "def test(s, words):\n",
    "    result = scaw(s, words)\n",
    "    \n",
    "    print(\"s=\\\"{}\\\", words={}\".format(s, words))\n",
    "    print(\"positions={}\".format(result))\n",
    "    print()\n",
    "    \n",
    "# example test 1\n",
    "test(\"barfoothefoobarman\", [\"foo\", \"bar\"])\n",
    "\n",
    "# example test 2\n",
    "test(\"wordgoodstudentgoodword\", [\"word\", \"student\"])\n",
    "\n",
    "# test\n",
    "test(\"studentgoodword\", [\"word\", \"good\"])\n"
   ]
  }
 ],
 "metadata": {
  "kernelspec": {
   "display_name": "Python 3",
   "language": "python",
   "name": "python3"
  },
  "language_info": {
   "codemirror_mode": {
    "name": "ipython",
    "version": 3
   },
   "file_extension": ".py",
   "mimetype": "text/x-python",
   "name": "python",
   "nbconvert_exporter": "python",
   "pygments_lexer": "ipython3",
   "version": "3.8.3"
  }
 },
 "nbformat": 4,
 "nbformat_minor": 4
}
