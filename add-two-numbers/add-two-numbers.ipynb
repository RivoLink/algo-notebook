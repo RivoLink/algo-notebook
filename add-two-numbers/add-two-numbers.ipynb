{
 "cells": [
  {
   "cell_type": "markdown",
   "metadata": {},
   "source": [
    "### Add Two Numbers\n",
    "\n",
    "You are given two non-empty linked lists representing two non-negative integers. The digits are stored in reverse order and each of their nodes contain a single digit. Add the two numbers and return it as a linked list.\n",
    "\n",
    "You may assume the two numbers do not contain any leading zero, except the number 0 itself."
   ]
  },
  {
   "cell_type": "markdown",
   "metadata": {},
   "source": [
    "### Example\n",
    "\n",
    "Input: (2 -> 4 -> 3) + (5 -> 6 -> 4)\n",
    "\n",
    "Output: 7 -> 0 -> 8\n",
    "\n",
    "Explanation: 342 + 465 = 807"
   ]
  },
  {
   "cell_type": "markdown",
   "metadata": {},
   "source": [
    "### Solution"
   ]
  },
  {
   "cell_type": "code",
   "execution_count": 1,
   "metadata": {},
   "outputs": [
    {
     "name": "stdout",
     "output_type": "stream",
     "text": [
      "[7, 0, 8]\n"
     ]
    }
   ],
   "source": [
    "# with array\n",
    "def add_two_numbers(num1, num2):    \n",
    "    num1 = num1.copy()[::-1]\n",
    "    num2 = num2.copy()[::-1]\n",
    "    \n",
    "    carry = 0\n",
    "    result = []\n",
    "    \n",
    "    for _ in range(max(len(num1), len(num2))):\n",
    "        a = num1.pop() if num1 else 0\n",
    "        b = num2.pop() if num2 else 0\n",
    "        \n",
    "        total = a + b + carry\n",
    "        \n",
    "        carry = int(total/10)\n",
    "        result = result + [total%10]\n",
    "        \n",
    "    if carry:\n",
    "        result = result + [carry]\n",
    "    \n",
    "    return result\n",
    "    \n",
    "print(add_two_numbers([2, 4, 3], [5, 6, 4]))"
   ]
  },
  {
   "cell_type": "markdown",
   "metadata": {},
   "source": [
    "### Test"
   ]
  },
  {
   "cell_type": "code",
   "execution_count": 2,
   "metadata": {},
   "outputs": [
    {
     "name": "stdout",
     "output_type": "stream",
     "text": [
      "[2, 4, 3] + [5, 6, 4] = [7, 0, 8]\n",
      "\n",
      "[2, 4, 9] + [5, 6, 4] = [7, 0, 4, 1]\n",
      "\n",
      "[1, 4, 7, 9, 1] + [1, 6, 4] = [2, 0, 2, 0, 2]\n",
      "\n"
     ]
    }
   ],
   "source": [
    "def test(num1, num2):\n",
    "    result = add_two_numbers(num1, num2)\n",
    "    \n",
    "    print(\"{} + {} = {}\".format(num1, num2, result))\n",
    "    print()\n",
    "    \n",
    "# example test\n",
    "test([2, 4, 3], [5, 6, 4])\n",
    "\n",
    "# carry test\n",
    "test([2, 4, 9], [5, 6, 4])\n",
    "\n",
    "# different length test\n",
    "test([1, 4, 7, 9, 1], [1, 6, 4])"
   ]
  }
 ],
 "metadata": {
  "kernelspec": {
   "display_name": "Python 3",
   "language": "python",
   "name": "python3"
  },
  "language_info": {
   "codemirror_mode": {
    "name": "ipython",
    "version": 3
   },
   "file_extension": ".py",
   "mimetype": "text/x-python",
   "name": "python",
   "nbconvert_exporter": "python",
   "pygments_lexer": "ipython3",
   "version": "3.8.3"
  }
 },
 "nbformat": 4,
 "nbformat_minor": 4
}
