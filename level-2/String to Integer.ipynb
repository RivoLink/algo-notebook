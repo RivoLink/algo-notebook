{
 "cells": [
  {
   "cell_type": "markdown",
   "metadata": {},
   "source": [
    "### String to Integer (atoi)\n",
    "\n",
    "Implement atoi which converts a string to an integer.\n",
    "\n",
    "The function first discards as many whitespace until the first non whitespace character is found. Then, starting from this character, takes an optional initial plus or minus sign followed by as many numerical digits as possible, and interprets characters as necessary them as a numerical value.\n",
    "\n",
    "The string can contain additional characters after those that form the integral number, which are ignored and have no effect on the behavior of this function.\n",
    "\n",
    "If the first sequence of non-whitespace characters in str is not a valid integral number , or if no such sequence exists because either str is empty or it contains only whitespace characters, no conversion is performed.\n",
    "\n",
    "If no valid conversion could be performed, a zero value is returned.\n",
    "\n",
    "#### Note\n",
    "Only the space character '' is Considered as whitespace character.\n"
   ]
  },
  {
   "cell_type": "markdown",
   "metadata": {},
   "source": [
    "### Example\n",
    "\n",
    "#### Example 1\n",
    "Input: \"42\" \\\n",
    "Output : 42\n",
    "\n",
    "#### Example 2\n",
    "Input: \"&emsp; -42\" \\\n",
    "Output : -42 \\\n",
    "Explanation: The first non-whitespace character is '-', which is the minus sign. Then take as many numerical digits as possible, which gets 42.\n",
    "\n",
    "#### Example 3\n",
    "Input: \"4193 with words\" \\\n",
    "Output 4193 \\\n",
    "Explanation: Conversion stops at digit '3' as the next character is not a numerical digit.\n",
    "\n",
    "#### Example 4\n",
    "Input \"words and 987\" \\\n",
    "Output : 0 \\\n",
    "Explanation: The first non-whitespace character is 'w', which is not a numerical digit or a +/- sign. Therefore no valid conversion could be performed.\n"
   ]
  },
  {
   "cell_type": "markdown",
   "metadata": {},
   "source": [
    "### Solution"
   ]
  },
  {
   "cell_type": "code",
   "execution_count": 1,
   "metadata": {},
   "outputs": [
    {
     "name": "stdout",
     "output_type": "stream",
     "text": [
      "42\n"
     ]
    }
   ],
   "source": [
    "def atoi(s):\n",
    "    neg, s = 1, s.strip()\n",
    "    \n",
    "    if s[0] == '+':\n",
    "        s = s[1:]\n",
    "    elif s[0] == '-':\n",
    "        neg = -1\n",
    "        s = s[1:]\n",
    "        \n",
    "    result, l = 0, len(s)\n",
    "    \n",
    "    for i in range(l):\n",
    "        try:\n",
    "            result = result*10 + int(s[i])\n",
    "        except ValueError:\n",
    "            break\n",
    "            \n",
    "    return neg*result\n",
    "\n",
    "print(atoi(\"42\"))"
   ]
  },
  {
   "cell_type": "markdown",
   "metadata": {},
   "source": [
    "### Test"
   ]
  },
  {
   "cell_type": "code",
   "execution_count": 2,
   "metadata": {},
   "outputs": [
    {
     "name": "stdout",
     "output_type": "stream",
     "text": [
      "string: \"42\"\n",
      "integer: 42\n",
      "\n",
      "string: \"  -42\"\n",
      "integer: -42\n",
      "\n",
      "string: \"4193 with words\"\n",
      "integer: 4193\n",
      "\n",
      "string: \"words and 987\"\n",
      "integer: 0\n",
      "\n",
      "string: \"4193 978\"\n",
      "integer: 4193\n",
      "\n"
     ]
    }
   ],
   "source": [
    "def test(s):\n",
    "    result = atoi(s)\n",
    "    \n",
    "    print(\"string: \\\"{}\\\"\".format(s))\n",
    "    print(\"integer: {}\".format(result))\n",
    "    print()\n",
    "    \n",
    "# example test 1\n",
    "test(\"42\")\n",
    "\n",
    "# example test 2\n",
    "test(\"  -42\")\n",
    "\n",
    "# example test 3\n",
    "test(\"4193 with words\")\n",
    "\n",
    "# example test 4\n",
    "test(\"words and 987\")\n",
    "\n",
    "# test\n",
    "test(\"4193 978\")\n"
   ]
  }
 ],
 "metadata": {
  "kernelspec": {
   "display_name": "Python 3",
   "language": "python",
   "name": "python3"
  },
  "language_info": {
   "codemirror_mode": {
    "name": "ipython",
    "version": 3
   },
   "file_extension": ".py",
   "mimetype": "text/x-python",
   "name": "python",
   "nbconvert_exporter": "python",
   "pygments_lexer": "ipython3",
   "version": "3.8.3"
  }
 },
 "nbformat": 4,
 "nbformat_minor": 4
}
