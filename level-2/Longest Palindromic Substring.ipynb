{
 "cells": [
  {
   "cell_type": "markdown",
   "metadata": {},
   "source": [
    "### Longest Palindromic Substring\n",
    "\n",
    "Given a string s, find the longest palindromic substring in s.\n",
    "\n",
    "Assume that the maximum length of s is 1000."
   ]
  },
  {
   "cell_type": "markdown",
   "metadata": {},
   "source": [
    "### Example\n",
    "#### Example 1\n",
    "Input: \"babad\" \\\n",
    "Output \"bab\" \\\n",
    "Note: \"aba\" is also a valid answer.\n",
    "\n",
    "#### Example 2\n",
    "Input \"cbbd\" \\\n",
    "Output: \"bb\" \n"
   ]
  },
  {
   "cell_type": "markdown",
   "metadata": {},
   "source": [
    "### Solution"
   ]
  },
  {
   "cell_type": "code",
   "execution_count": 1,
   "metadata": {},
   "outputs": [
    {
     "name": "stdout",
     "output_type": "stream",
     "text": [
      "aba\n"
     ]
    }
   ],
   "source": [
    "def expandAroundCenter(s, left, right):\n",
    "    L, R = left, right\n",
    "    \n",
    "    while L >= 0 and R < len(s) and (s[L] == s[R]):\n",
    "        L = L-1\n",
    "        R = R+1\n",
    "        \n",
    "    return R-L-1\n",
    "\n",
    "def lps(s):\n",
    "    start, end = 0, 0\n",
    "    \n",
    "    for i in range(len(s)):\n",
    "        len1 = expandAroundCenter(s, i, i)\n",
    "        len2 = expandAroundCenter(s, i, i+1)\n",
    "        iLen = max(len1, len2)\n",
    "        \n",
    "        if iLen > (end-start):\n",
    "            start = i - int((iLen-1)/2)\n",
    "            end = i + int(iLen/2)\n",
    "            \n",
    "    return s[start:end+1]\n",
    "\n",
    "print(lps(\"babad\"))"
   ]
  },
  {
   "cell_type": "markdown",
   "metadata": {},
   "source": [
    "### Test"
   ]
  },
  {
   "cell_type": "code",
   "execution_count": 2,
   "metadata": {},
   "outputs": [
    {
     "name": "stdout",
     "output_type": "stream",
     "text": [
      "s: babad\n",
      "lps: aba\n",
      "\n",
      "s: cbbd\n",
      "lps: bb\n",
      "\n",
      "s: azerehher\n",
      "lps: rehher\n",
      "\n"
     ]
    }
   ],
   "source": [
    "def test(s):\n",
    "    result =lps(s)\n",
    "    \n",
    "    print(\"s: {}\".format(s))\n",
    "    print(\"lps: {}\".format(result))\n",
    "    print()\n",
    "    \n",
    "# example test 1\n",
    "test(\"babad\")\n",
    "\n",
    "# example test 2\n",
    "test(\"cbbd\")\n",
    "\n",
    "# test \n",
    "test(\"azerehher\")\n"
   ]
  }
 ],
 "metadata": {
  "kernelspec": {
   "display_name": "Python 3",
   "language": "python",
   "name": "python3"
  },
  "language_info": {
   "codemirror_mode": {
    "name": "ipython",
    "version": 3
   },
   "file_extension": ".py",
   "mimetype": "text/x-python",
   "name": "python",
   "nbconvert_exporter": "python",
   "pygments_lexer": "ipython3",
   "version": "3.8.3"
  }
 },
 "nbformat": 4,
 "nbformat_minor": 4
}
