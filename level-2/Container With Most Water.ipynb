{
 "cells": [
  {
   "cell_type": "markdown",
   "metadata": {},
   "source": [
    "### Container With Most Water\n",
    "\n",
    "Given n non-negative integers a1, a2, ..., an, where each represents a point at coordinate (i, ai). n vertical lines are drawn such that the two endpoints of line i is at (i, ai) and (i, 0). Find two lines, which together with x-axis forms a container, such that the container contains the most water.\n",
    "\n",
    "#### Note: \n",
    "You may not slant the container and n is at least 2.\n"
   ]
  },
  {
   "cell_type": "markdown",
   "metadata": {},
   "source": [
    "### Example\n",
    "\n",
    "Input: [1, 8, 6, 2, 5, 4, 8, 3, 7] \\\n",
    "Output: 49 \\\n",
    "Explanation: The above vertical lines are represented by array [1, 8 ,6, 2, 5, 4, 8, 3, 7]. In this case, the max area of water the container can contain is 49.\n"
   ]
  },
  {
   "cell_type": "markdown",
   "metadata": {},
   "source": [
    "### Solution"
   ]
  },
  {
   "cell_type": "code",
   "execution_count": 1,
   "metadata": {},
   "outputs": [
    {
     "name": "stdout",
     "output_type": "stream",
     "text": [
      "49\n"
     ]
    }
   ],
   "source": [
    "def cwmw(heights):\n",
    "    \n",
    "    maxarea, left, right = 0, 0, len(heights) - 1\n",
    "    \n",
    "    while left < right:\n",
    "        height = min(heights[left], heights[right])\n",
    "        maxarea = max(maxarea, height * (right-left))\n",
    "        \n",
    "        if heights[left] < heights[right]:\n",
    "            left = left + 1\n",
    "        else:\n",
    "            right = right - 1\n",
    "            \n",
    "    return maxarea\n",
    "            \n",
    "print(cwmw([1, 8, 6, 2, 5, 4, 8, 3, 7]))"
   ]
  },
  {
   "cell_type": "markdown",
   "metadata": {},
   "source": [
    "## Test"
   ]
  },
  {
   "cell_type": "code",
   "execution_count": 2,
   "metadata": {},
   "outputs": [
    {
     "name": "stdout",
     "output_type": "stream",
     "text": [
      "heights: [1, 8, 6, 2, 5, 4, 8, 3, 7]\n",
      "max area: 49\n",
      "\n",
      "heights: [5, 0, 0, 0, 0, 0, 5]\n",
      "max area: 30\n",
      "\n"
     ]
    }
   ],
   "source": [
    "def test(heights):\n",
    "    result = cwmw(heights)\n",
    "    \n",
    "    print(\"heights: {}\".format(heights))\n",
    "    print(\"max area: {}\".format(result))\n",
    "    print()\n",
    "    \n",
    "# example test\n",
    "test([1, 8, 6, 2, 5, 4, 8, 3, 7])\n",
    "\n",
    "# text 5h * 6w = 30area\n",
    "test([5, 0, 0, 0, 0, 0, 5])\n"
   ]
  }
 ],
 "metadata": {
  "kernelspec": {
   "display_name": "Python 3",
   "language": "python",
   "name": "python3"
  },
  "language_info": {
   "codemirror_mode": {
    "name": "ipython",
    "version": 3
   },
   "file_extension": ".py",
   "mimetype": "text/x-python",
   "name": "python",
   "nbconvert_exporter": "python",
   "pygments_lexer": "ipython3",
   "version": "3.8.3"
  }
 },
 "nbformat": 4,
 "nbformat_minor": 4
}
