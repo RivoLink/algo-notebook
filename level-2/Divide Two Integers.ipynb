{
 "cells": [
  {
   "cell_type": "markdown",
   "metadata": {},
   "source": [
    "### Divide Two Integers\n",
    "\n",
    "Given two integers dividend and divisor, divide two integers without using multiplication, division and mod operator.\n",
    "\n",
    "Return the quotient after dividing dividend by divisor.\n",
    "\n",
    "The integer division should truncate toward zero.\n"
   ]
  },
  {
   "cell_type": "markdown",
   "metadata": {},
   "source": [
    "### Example\n",
    "\n",
    "#### Example 1\n",
    "Input: dividend = 10, divisor = 3 \\\n",
    "Output: 3\n",
    "\n",
    "#### Example 2\n",
    "Input dividend = 7, divisor = -3 \\\n",
    "Output: -2\n",
    "\n",
    "\n",
    "#### Note\n",
    "\n",
    "Both dividend and divisor will be 32-bit signed integers. \\\n",
    "The divisor will never be 0. \\\n",
    "Assume we are dealing with an environment which could only store integers within the 32-bit signed integer range: [-231, 231-1]. \n",
    "For the purpose of this problem, assume that your function returns 231-1 when the division result overflows.\n"
   ]
  },
  {
   "cell_type": "markdown",
   "metadata": {},
   "source": [
    "### Solution"
   ]
  },
  {
   "cell_type": "code",
   "execution_count": 1,
   "metadata": {},
   "outputs": [
    {
     "name": "stdout",
     "output_type": "stream",
     "text": [
      "15\n"
     ]
    }
   ],
   "source": [
    "def dti(dividend, divisor):\n",
    "    \n",
    "    neg = False\n",
    "    quotient = 0\n",
    "    \n",
    "    if dividend < 0:\n",
    "        neg = True\n",
    "        dividend = -dividend\n",
    "        \n",
    "    if divisor < 0:\n",
    "        neg = not neg\n",
    "        divisor = -divisor\n",
    "    \n",
    "    while dividend >= divisor:\n",
    "        dividend -= divisor\n",
    "        quotient += 1\n",
    "        \n",
    "    return [quotient, -quotient][neg]\n",
    "\n",
    "print(dti(-15, -1))"
   ]
  },
  {
   "cell_type": "markdown",
   "metadata": {},
   "source": [
    "### Test"
   ]
  },
  {
   "cell_type": "code",
   "execution_count": 2,
   "metadata": {},
   "outputs": [
    {
     "name": "stdout",
     "output_type": "stream",
     "text": [
      "dividend: 10, divisor: 3\n",
      "quotient: 3\n",
      "\n",
      "dividend: 7, divisor: -3\n",
      "quotient: -2\n",
      "\n",
      "dividend: -8, divisor: 2\n",
      "quotient: -4\n",
      "\n",
      "dividend: -15, divisor: -4\n",
      "quotient: 3\n",
      "\n"
     ]
    }
   ],
   "source": [
    "def test(dividend, divisor):\n",
    "    result = dti(dividend, divisor)\n",
    "    \n",
    "    print(\"dividend: {}, divisor: {}\".format(dividend, divisor))\n",
    "    print(\"quotient: {}\".format(result))\n",
    "    print()\n",
    "    \n",
    "# example test 1\n",
    "test(10, 3)\n",
    "\n",
    "# example test 2\n",
    "test(7, -3)\n",
    "\n",
    "# test\n",
    "test(-8, 2)\n",
    "\n",
    "# test\n",
    "test(-15, -4)\n"
   ]
  }
 ],
 "metadata": {
  "kernelspec": {
   "display_name": "Python 3",
   "language": "python",
   "name": "python3"
  },
  "language_info": {
   "codemirror_mode": {
    "name": "ipython",
    "version": 3
   },
   "file_extension": ".py",
   "mimetype": "text/x-python",
   "name": "python",
   "nbconvert_exporter": "python",
   "pygments_lexer": "ipython3",
   "version": "3.8.3"
  }
 },
 "nbformat": 4,
 "nbformat_minor": 4
}
