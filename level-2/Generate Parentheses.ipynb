{
 "cells": [
  {
   "cell_type": "markdown",
   "metadata": {},
   "source": [
    "### Generate Parentheses\n",
    "\n",
    "Given n pairs of parentheses, write a function to generate all combinations of well-formed parentheses.\n"
   ]
  },
  {
   "cell_type": "markdown",
   "metadata": {},
   "source": [
    "### Example\n",
    "\n",
    "Input: 3 \\\n",
    "Output: \\[\"((()))\", \"(()())\", \"(())()\", \"()(())\", \"()()()\"\\]\n"
   ]
  },
  {
   "cell_type": "markdown",
   "metadata": {},
   "source": [
    "### Solution"
   ]
  },
  {
   "cell_type": "code",
   "execution_count": 1,
   "metadata": {},
   "outputs": [
    {
     "name": "stdout",
     "output_type": "stream",
     "text": [
      "['((()))', '(()())', '(())()', '()(())', '()()()']\n"
     ]
    }
   ],
   "source": [
    "def backtrack(result, text, left, right, n):\n",
    "    if len(text) >= n*2:\n",
    "        result.append(text)\n",
    "        return\n",
    "    \n",
    "    if left < n:\n",
    "        backtrack(result, text+'(', left+1, right, n)\n",
    "    if right < left:\n",
    "        backtrack(result, text+')', left, right+1, n)\n",
    "        \n",
    "\n",
    "def gp(n):\n",
    "    result = []\n",
    "    backtrack(result, '', 0, 0, n)\n",
    "    return result\n",
    "\n",
    "\n",
    "print(gp(3))"
   ]
  },
  {
   "cell_type": "markdown",
   "metadata": {},
   "source": [
    "### Test"
   ]
  },
  {
   "cell_type": "code",
   "execution_count": 2,
   "metadata": {},
   "outputs": [
    {
     "name": "stdout",
     "output_type": "stream",
     "text": [
      "i: 3\n",
      "o: ['((()))', '(()())', '(())()', '()(())', '()()()']\n",
      "\n",
      "i: 4\n",
      "o: ['(((())))', '((()()))', '((())())', '((()))()', '(()(()))', '(()()())', '(()())()', '(())(())', '(())()()', '()((()))', '()(()())', '()(())()', '()()(())', '()()()()']\n",
      "\n"
     ]
    }
   ],
   "source": [
    "def test(n):\n",
    "    result = gp(n)\n",
    "    \n",
    "    print(\"i: {}\".format(n))\n",
    "    print(\"o: {}\".format(result))\n",
    "    print()\n",
    "    \n",
    "# example test\n",
    "test(3)\n",
    "\n",
    "# test\n",
    "test(4)\n"
   ]
  }
 ],
 "metadata": {
  "kernelspec": {
   "display_name": "Python 3",
   "language": "python",
   "name": "python3"
  },
  "language_info": {
   "codemirror_mode": {
    "name": "ipython",
    "version": 3
   },
   "file_extension": ".py",
   "mimetype": "text/x-python",
   "name": "python",
   "nbconvert_exporter": "python",
   "pygments_lexer": "ipython3",
   "version": "3.8.3"
  }
 },
 "nbformat": 4,
 "nbformat_minor": 4
}
