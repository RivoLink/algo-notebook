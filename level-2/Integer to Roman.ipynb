{
 "cells": [
  {
   "cell_type": "markdown",
   "metadata": {},
   "source": [
    "### Integer to Roman\n",
    "\n",
    "Roman numerals are represented by seven different symbols: I, V, X, L, C, D and M.\n",
    "\n",
    "<pre>\n",
    "Symbol          Value\n",
    "\n",
    "I               1\n",
    "V               5\n",
    "X               10\n",
    "L               50\n",
    "C               100\n",
    "D               500\n",
    "M               1000\n",
    "</pre>\n",
    "\n",
    "For example, two is written as II in Roman numeral, just two one's added together. Twelve is written as, XII, which is simply X + II. \\\n",
    "The number twenty seven is written\n",
    "as XXVII, which is XX + V + II.\n",
    "\n",
    "Roman numerals are usually written largest to smallest from left to right. However, the numeral for four is not IIII. Instead, number four is written as IV. \\\n",
    "Because the one is before the five we subtract it making four. \\\n",
    "The same principle applies to the number nine, which is written as\n",
    "IX. There are six instances where subtraction is used:\n",
    "\n",
    "I can be placed before V (5) and X\n",
    "(10) to make 4 and 9. \\\n",
    "X can be placed before L (50) and C (100) to make 40 and 90. \\\n",
    "C can be placed before D (500) and M (1000) to make 400 and 900.\n",
    "\n",
    "Given an integer, convert it to a roman numeral. Input is guaranteed to be within the range from 1 to 3999.\n"
   ]
  },
  {
   "cell_type": "markdown",
   "metadata": {},
   "source": [
    "### Example\n",
    "\n",
    "#### Example 1\n",
    "Input: 3 \\\n",
    "Output: \"III\"\n",
    "\n",
    "#### Example 2\n",
    "Input: 4 \\\n",
    "Output: \"IV\"\n",
    "\n",
    "#### Example 3\n",
    "Input: 9 \\\n",
    "Output : \"IX\"\n",
    "\n",
    "#### Example 4\n",
    "Input: 58 \\\n",
    "Output: \"LVIII\" \\\n",
    "Explanation: C = 100, L = 50, XXX =\n",
    "30 and III = 3.\n",
    "\n",
    "#### Example 5\n",
    "Input: 1994 \\\n",
    "Output: \"MCMXCIV\" \\\n",
    "Explanation: M = 1000, CM = 900, XC\n",
    "= 90 and IV = 4.\n"
   ]
  },
  {
   "cell_type": "markdown",
   "metadata": {},
   "source": [
    "### Solution"
   ]
  },
  {
   "cell_type": "code",
   "execution_count": 1,
   "metadata": {},
   "outputs": [
    {
     "name": "stdout",
     "output_type": "stream",
     "text": [
      "III\n"
     ]
    }
   ],
   "source": [
    "symbols = {\n",
    "    1: 'I',\n",
    "    5: 'V',\n",
    "    10: 'X',\n",
    "    50: 'L',\n",
    "    100: 'C',\n",
    "    500: 'D',\n",
    "    1000: 'M'\n",
    "}\n",
    "\n",
    "\n",
    "def itor(val):\n",
    "\n",
    "    s = ''\n",
    "    div = 1000\n",
    "\n",
    "    while val > 0:\n",
    "\n",
    "        x = int(val / div)\n",
    "\n",
    "        if x < 4:\n",
    "            s += symbols.get(div)*x\n",
    "        elif x == 4:\n",
    "            s += symbols.get(div)\n",
    "            s += symbols.get(div*5)\n",
    "        elif x == 9:\n",
    "            s += symbols.get(div)\n",
    "            s += symbols.get(div*10)\n",
    "        else:\n",
    "            s += symbols.get(div*5)\n",
    "            s += symbols.get(div)*(x-5)\n",
    "\n",
    "        val %= div  \n",
    "        div = int(div/10)\n",
    "\n",
    "    return s\n",
    "\n",
    "print(itor(3))"
   ]
  },
  {
   "cell_type": "markdown",
   "metadata": {},
   "source": [
    "### Test"
   ]
  },
  {
   "cell_type": "code",
   "execution_count": 2,
   "metadata": {},
   "outputs": [
    {
     "name": "stdout",
     "output_type": "stream",
     "text": [
      "value: 3\n",
      "roman: III\n",
      "\n",
      "value: 4\n",
      "roman: IV\n",
      "\n",
      "value: 9\n",
      "roman: IX\n",
      "\n",
      "value: 58\n",
      "roman: LVIII\n",
      "\n",
      "value: 1994\n",
      "roman: MCMXCIV\n",
      "\n",
      "value: 3949\n",
      "roman: MMMCMXLIX\n",
      "\n"
     ]
    }
   ],
   "source": [
    "def test(val):\n",
    "    result = itor(val)\n",
    "    \n",
    "    print(\"value: {}\".format(val))\n",
    "    print(\"roman: {}\".format(result))\n",
    "    print()\n",
    "    \n",
    "# example test 1\n",
    "test(3)\n",
    "\n",
    "# example test 2\n",
    "test(4)\n",
    "\n",
    "# example test 3\n",
    "test(9)\n",
    "\n",
    "# example test\n",
    "test(58)\n",
    "\n",
    "# example test\n",
    "test(1994)\n",
    "\n",
    "# test 3949 => MMMCMXLIX\n",
    "test(3949)\n"
   ]
  }
 ],
 "metadata": {
  "kernelspec": {
   "display_name": "Python 3",
   "language": "python",
   "name": "python3"
  },
  "language_info": {
   "codemirror_mode": {
    "name": "ipython",
    "version": 3
   },
   "file_extension": ".py",
   "mimetype": "text/x-python",
   "name": "python",
   "nbconvert_exporter": "python",
   "pygments_lexer": "ipython3",
   "version": "3.8.3"
  }
 },
 "nbformat": 4,
 "nbformat_minor": 4
}
