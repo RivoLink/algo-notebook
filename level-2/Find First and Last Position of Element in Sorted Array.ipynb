{
 "cells": [
  {
   "cell_type": "markdown",
   "metadata": {},
   "source": [
    "### Find First and Last Position of Element in Sorted Array\n",
    "\n",
    "Given an array of integers nums sorted in ascending order, find the starting and ending position of a given target value.\n",
    "\n",
    "Your algorithm's runtime complexity must be in the order of O(log n).\n",
    "\n",
    "If the target is not found in the array, return [-1, -1].\n"
   ]
  },
  {
   "cell_type": "markdown",
   "metadata": {},
   "source": [
    "### Example \n",
    "\n",
    "\n",
    "\n",
    "#### Example 1\n",
    "Input: nums = [5, 7, 7, 8, 8, 10], target = 8 \\\n",
    "Output: [3, 4]\n",
    "\n",
    "#### Example 2\n",
    "Input: nums = [5, 7, 7, 8, 8, 10], target = 6 \\\n",
    "Output: [-1, -1]"
   ]
  },
  {
   "cell_type": "markdown",
   "metadata": {},
   "source": [
    "### Solution"
   ]
  },
  {
   "cell_type": "code",
   "execution_count": 18,
   "metadata": {},
   "outputs": [
    {
     "name": "stdout",
     "output_type": "stream",
     "text": [
      "[3, 4]\n"
     ]
    }
   ],
   "source": [
    "def fflpesa(nums, target):\n",
    "    lo = 0\n",
    "    hi = len(nums) - 1\n",
    "    \n",
    "    while lo <= hi:\n",
    "        mid = lo + int((hi - lo)/2)\n",
    "        \n",
    "        if target == nums[mid]:\n",
    "            lo, hi = mid, mid\n",
    "            break\n",
    "        elif target < nums[mid]:\n",
    "            hi = mid - 1\n",
    "        elif target > nums[mid]:\n",
    "            lo = mid + 1\n",
    "            \n",
    "    if nums[lo] != target:\n",
    "        return [-1, -1]\n",
    "    \n",
    "    found = True\n",
    "    \n",
    "    while found:\n",
    "        found = False\n",
    "        \n",
    "        if lo and nums[lo-1] == target:\n",
    "            lo -= 1\n",
    "            found = True\n",
    "            \n",
    "        if hi < len(nums)-1 and nums[hi+1] == target:\n",
    "            hi += 1\n",
    "            found = True\n",
    "            \n",
    "    return [lo, hi]\n",
    "            \n",
    "print(fflpesa([5, 7, 7, 8, 8, 10], 8))"
   ]
  },
  {
   "cell_type": "code",
   "execution_count": 19,
   "metadata": {},
   "outputs": [
    {
     "name": "stdout",
     "output_type": "stream",
     "text": [
      "[3, 4]\n"
     ]
    }
   ],
   "source": [
    "def fflpesa_2(nums, target):\n",
    "    first, last = -1, -1\n",
    "\n",
    "    for i,num in enumerate(nums):\n",
    "        \n",
    "        if num > target:\n",
    "            break\n",
    "        \n",
    "        if num == target:\n",
    "            if first > -1:\n",
    "                last = i\n",
    "            else:\n",
    "                first = i\n",
    "                last = i\n",
    "                \n",
    "    return [first, last]\n",
    "\n",
    "print(fflpesa_2([5, 7, 7, 8, 8, 10], 8))"
   ]
  },
  {
   "cell_type": "markdown",
   "metadata": {},
   "source": [
    "### Test"
   ]
  },
  {
   "cell_type": "code",
   "execution_count": 10,
   "metadata": {},
   "outputs": [
    {
     "name": "stdout",
     "output_type": "stream",
     "text": [
      "i: nums = [5, 7, 7, 8, 8, 10], target = 8\n",
      "o: [3, 4]\n",
      "\n",
      "i: nums = [5, 7, 7, 8, 8, 10], target = 6\n",
      "o: [-1, -1]\n",
      "\n",
      "i: nums = [8, 8, 8, 8, 8, 8], target = 8\n",
      "o: [0, 5]\n",
      "\n"
     ]
    }
   ],
   "source": [
    "def test(nums, target):\n",
    "    result = fflpesa(nums, target)\n",
    "    \n",
    "    print(\"i: nums = {}, target = {}\".format(nums, target))\n",
    "    print(\"o: {}\".format(result))\n",
    "    print()\n",
    "    \n",
    "# example test 1\n",
    "test([5, 7, 7, 8, 8, 10], 8)\n",
    "\n",
    "# example test 2\n",
    "test([5, 7, 7, 8, 8, 10], 6)\n",
    "\n",
    "# test\n",
    "test([8, 8, 8, 8, 8, 8], 8)\n"
   ]
  }
 ],
 "metadata": {
  "kernelspec": {
   "display_name": "Python 3",
   "language": "python",
   "name": "python3"
  }
 },
 "nbformat": 4,
 "nbformat_minor": 4
}
