{
 "cells": [
  {
   "cell_type": "markdown",
   "metadata": {},
   "source": [
    "### Find First and Last Position of Element in Sorted Array\n",
    "\n",
    "Given an array of integers nums sorted in ascending order, find the starting and ending position of a given target value.\n",
    "\n",
    "Your algorithm's runtime complexity must be in the order of O(log n).\n",
    "\n",
    "If the target is not found in the array, return [-1, -1].\n"
   ]
  },
  {
   "cell_type": "markdown",
   "metadata": {},
   "source": [
    "### Example \n",
    "\n",
    "\n",
    "\n",
    "#### Example 1\n",
    "Input: nums = [5, 7, 7, 8, 8, 10], target = 8 \\\n",
    "Output: [3, 4]\n",
    "\n",
    "#### Example 2\n",
    "Input: nums = [5, 7, 7, 8, 8, 10], target = 6 \\\n",
    "Output: [-1, -1]"
   ]
  },
  {
   "cell_type": "markdown",
   "metadata": {},
   "source": [
    "### Solution"
   ]
  },
  {
   "cell_type": "code",
   "execution_count": 1,
   "metadata": {},
   "outputs": [
    {
     "name": "stdout",
     "output_type": "stream",
     "text": [
      "[3, 4]\n"
     ]
    }
   ],
   "source": [
    "def index(nums, target, left):\n",
    "    lo = 0\n",
    "    hi = len(nums) - 1\n",
    "    \n",
    "    while lo <= hi:\n",
    "        mid = int((hi + lo)/2)\n",
    "        \n",
    "        if target == nums[mid]:\n",
    "            \n",
    "            if left and mid-1 > -1 and nums[mid-1] == target:\n",
    "                hi = mid\n",
    "                continue\n",
    "            elif not left and mid+1 < len(nums) and nums[mid+1] == target:\n",
    "                lo = mid + 1\n",
    "                continue\n",
    "            else:\n",
    "                return mid\n",
    "            \n",
    "        if target < nums[mid]:\n",
    "            hi = mid - 1\n",
    "        else:\n",
    "            lo = mid + 1\n",
    "                \n",
    "    return -1\n",
    "\n",
    "                \n",
    "def fflpesa(nums, target):\n",
    "    left = index(nums, target, True)\n",
    "    \n",
    "    if left > -1:\n",
    "        return [left, index(nums, target, False)]\n",
    "    else:\n",
    "        return [-1, -1]\n",
    "    \n",
    "          \n",
    "print(fflpesa([5, 7, 7, 8, 8, 10], 8))"
   ]
  },
  {
   "cell_type": "markdown",
   "metadata": {},
   "source": [
    "### Test"
   ]
  },
  {
   "cell_type": "code",
   "execution_count": 2,
   "metadata": {},
   "outputs": [
    {
     "name": "stdout",
     "output_type": "stream",
     "text": [
      "i: nums = [5, 7, 7, 8, 8, 10], target = 8\n",
      "o: [3, 4]\n",
      "\n",
      "i: nums = [5, 7, 7, 8, 8, 10], target = 6\n",
      "o: [-1, -1]\n",
      "\n",
      "i: nums = [8, 8, 8, 8, 8, 8], target = 8\n",
      "o: [0, 5]\n",
      "\n"
     ]
    }
   ],
   "source": [
    "def test(nums, target):\n",
    "    result = fflpesa(nums, target)\n",
    "    \n",
    "    print(\"i: nums = {}, target = {}\".format(nums, target))\n",
    "    print(\"o: {}\".format(result))\n",
    "    print()\n",
    "    \n",
    "# example test 1\n",
    "test([5, 7, 7, 8, 8, 10], 8)\n",
    "\n",
    "# example test 2\n",
    "test([5, 7, 7, 8, 8, 10], 6)\n",
    "\n",
    "# test\n",
    "test([8, 8, 8, 8, 8, 8], 8)\n"
   ]
  }
 ],
 "metadata": {
  "kernelspec": {
   "display_name": "Python 3",
   "language": "python",
   "name": "python3"
  },
  "language_info": {
   "codemirror_mode": {
    "name": "ipython",
    "version": 3
   },
   "file_extension": ".py",
   "mimetype": "text/x-python",
   "name": "python",
   "nbconvert_exporter": "python",
   "pygments_lexer": "ipython3",
   "version": "3.6.6"
  }
 },
 "nbformat": 4,
 "nbformat_minor": 4
}
