{
 "cells": [
  {
   "cell_type": "markdown",
   "metadata": {},
   "source": [
    "### 4Sum\n",
    "\n",
    "Given an array nums of n integers and an integer target, are there elements a, b, c, and d in nums such that a + b + c + d = target? \\\n",
    "Find all unique quadruplets in the array which gives the sum of target.\n",
    "\n",
    "#### Note\n",
    "The solution set must not contain duplicate quadruplets.\n"
   ]
  },
  {
   "cell_type": "markdown",
   "metadata": {},
   "source": [
    "### Example\n",
    "\n",
    "Inputs: nums = [1, 0, -1, 0, -2, 2], target = 0 \\\n",
    "Output: [[-1, 0, 0, 1], [-2, -1, 1, 2], [-2, 0, 0, 2]]\n",
    "\n",
    "\n"
   ]
  },
  {
   "cell_type": "markdown",
   "metadata": {},
   "source": [
    "### Solution"
   ]
  },
  {
   "cell_type": "code",
   "execution_count": 1,
   "metadata": {},
   "outputs": [
    {
     "name": "stdout",
     "output_type": "stream",
     "text": [
      "[[-2, -1, 1, 2], [-2, 0, 0, 2], [-1, 0, 0, 1]]\n"
     ]
    }
   ],
   "source": [
    "def four_sum(nums, target):\n",
    "    \n",
    "    nums = nums.copy()\n",
    "    nums.sort()\n",
    "    \n",
    "    result = []\n",
    "    \n",
    "    for i in range(len(nums[:-3])):\n",
    "        \n",
    "        if i and nums[i] == nums[i-1]:\n",
    "            continue\n",
    "            \n",
    "        for j in range(i+1, len(nums[:-2])):\n",
    "            \n",
    "            if j > i+1 and nums[j] == nums[j-1]:\n",
    "                continue\n",
    "                \n",
    "            new_target = target - (nums[i] + nums[j])\n",
    "            lo = j + 1\n",
    "            hi = len(nums) - 1\n",
    "            \n",
    "            while lo < hi:\n",
    "                \n",
    "                if lo > j+1 and nums[lo] == nums[lo-1]:\n",
    "                    lo += 1\n",
    "                    continue\n",
    "                    \n",
    "                if hi < len(nums)-1 and nums[hi] == nums[hi+1]:\n",
    "                    hi -= 1\n",
    "                    continue\n",
    "                    \n",
    "                s = nums[lo] + nums[hi]\n",
    "                \n",
    "                if s < new_target:\n",
    "                    lo += 1\n",
    "                elif s > new_target:\n",
    "                    hi -= 1\n",
    "                else:\n",
    "                    result += [[nums[i], nums[j], nums[lo], nums[hi]]]\n",
    "                    lo += 1\n",
    "                    hi -= 1\n",
    "    \n",
    "    return result\n",
    "            \n",
    "print(four_sum([1, 0, -1, 0, -2, 2], 0))"
   ]
  },
  {
   "cell_type": "markdown",
   "metadata": {},
   "source": [
    "### Test"
   ]
  },
  {
   "cell_type": "code",
   "execution_count": 2,
   "metadata": {},
   "outputs": [
    {
     "name": "stdout",
     "output_type": "stream",
     "text": [
      "nums: [1, 0, -1, 0, -2, 2], target: 0\n",
      "output: [[-2, -1, 1, 2], [-2, 0, 0, 2], [-1, 0, 0, 1]]\n",
      "\n",
      "nums: [9, -5, 4, 0, 1, 4], target: 8\n",
      "output: [[-5, 0, 4, 9]]\n",
      "\n"
     ]
    }
   ],
   "source": [
    "def test(nums, target):\n",
    "    result = four_sum(nums, target)\n",
    "    \n",
    "    print(\"nums: {}, target: {}\".format(nums, target))\n",
    "    print(\"output: {}\".format(result))\n",
    "    print()\n",
    "    \n",
    "# example test \n",
    "test([1, 0, -1, 0, -2, 2], 0)\n",
    "\n",
    "# test\n",
    "test([9, -5, 4, 0, 1, 4], 8)\n"
   ]
  }
 ],
 "metadata": {
  "kernelspec": {
   "display_name": "Python 3",
   "language": "python",
   "name": "python3"
  },
  "language_info": {
   "codemirror_mode": {
    "name": "ipython",
    "version": 3
   },
   "file_extension": ".py",
   "mimetype": "text/x-python",
   "name": "python",
   "nbconvert_exporter": "python",
   "pygments_lexer": "ipython3",
   "version": "3.8.3"
  }
 },
 "nbformat": 4,
 "nbformat_minor": 4
}
