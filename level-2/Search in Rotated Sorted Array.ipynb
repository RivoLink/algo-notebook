{
 "cells": [
  {
   "cell_type": "markdown",
   "metadata": {},
   "source": [
    "### Search in Rotated Sorted Array\n",
    "\n",
    "Suppose an array sorted in ascending order is rotated at some pivot unknown to you beforehand.\n",
    "\n",
    "(i.e., [0, 1, 2, 4, 5, 6, 7] might become [4, 5, 6, 7, 0, 1, 2]).\n",
    "\n",
    "You are given a target value to search. If found in the array return its index, otherwise return -1.\n",
    "\n",
    "You may assume no duplicate exists in the array.\n",
    "\n",
    "Your algorithm's runtime complexity must be in the order of O(log n).\n"
   ]
  },
  {
   "cell_type": "markdown",
   "metadata": {},
   "source": [
    "### Example\n",
    "\n",
    "#### Example 1\n",
    "Input: nums = [4, 5, 6, 7, 0, 1, 2], target = 0 \\\n",
    "Output: 4\n",
    "\n",
    "#### Example 2\n",
    "Input: nums = [4, 5, 6, 7, 0, 1, 2], target = 3 \\\n",
    "Output: -1\n"
   ]
  },
  {
   "cell_type": "markdown",
   "metadata": {},
   "source": [
    "### Solution"
   ]
  },
  {
   "cell_type": "code",
   "execution_count": 1,
   "metadata": {},
   "outputs": [
    {
     "name": "stdout",
     "output_type": "stream",
     "text": [
      "4\n"
     ]
    }
   ],
   "source": [
    "def srsa(nums, target):\n",
    "    lo = 0\n",
    "    hi = len(nums) - 1\n",
    "    \n",
    "    while lo <= hi:\n",
    "        mid = lo + int((hi - lo)/2)\n",
    "        \n",
    "        if nums[mid] == target:\n",
    "            return mid\n",
    "        \n",
    "        if nums[lo] < nums[mid]:\n",
    "            if nums[lo]<= target < nums[mid]:\n",
    "                hi = mid - 1\n",
    "            else:\n",
    "                lo = mid + 1\n",
    "            \n",
    "        if nums[mid] <= nums[hi]:\n",
    "            if nums[mid] < target <= nums[hi]:\n",
    "                lo = mid + 1\n",
    "            else:\n",
    "                hi = mid - 1\n",
    "                \n",
    "    return -1\n",
    "            \n",
    "print(srsa([4, 5, 6, 7, 0, 1, 2], 0))"
   ]
  },
  {
   "cell_type": "markdown",
   "metadata": {},
   "source": [
    "### Test"
   ]
  },
  {
   "cell_type": "code",
   "execution_count": 2,
   "metadata": {},
   "outputs": [
    {
     "name": "stdout",
     "output_type": "stream",
     "text": [
      "i: nums=[4, 5, 6, 7, 0, 1, 2], target=0\n",
      "o: 4\n",
      "\n",
      "i: nums=[4, 5, 6, 7, 0, 1, 2], target=3\n",
      "o: -1\n",
      "\n",
      "i: nums=[4, 5, 6, 7, 0, 1, 2], target=4\n",
      "o: 0\n",
      "\n",
      "i: nums=[4, 5, 6, 7, 0, 1, 2], target=2\n",
      "o: 6\n",
      "\n"
     ]
    }
   ],
   "source": [
    "def test(nums, target):\n",
    "    result = srsa(nums, target)\n",
    "    \n",
    "    print(\"i: nums={}, target={}\".format(nums, target))\n",
    "    print(\"o: {}\".format(result))\n",
    "    print()\n",
    "    \n",
    "# example test 1\n",
    "test([4, 5, 6, 7, 0, 1, 2], 0)\n",
    "\n",
    "# example test 2\n",
    "test([4, 5, 6, 7, 0, 1, 2], 3)\n",
    "\n",
    "# test \n",
    "test([4, 5, 6, 7, 0, 1, 2], 4)\n",
    "\n",
    "# test\n",
    "test([4, 5, 6, 7, 0, 1, 2], 2)\n"
   ]
  }
 ],
 "metadata": {
  "kernelspec": {
   "display_name": "Python 3",
   "language": "python",
   "name": "python3"
  },
  "language_info": {
   "codemirror_mode": {
    "name": "ipython",
    "version": 3
   },
   "file_extension": ".py",
   "mimetype": "text/x-python",
   "name": "python",
   "nbconvert_exporter": "python",
   "pygments_lexer": "ipython3",
   "version": "3.8.3"
  }
 },
 "nbformat": 4,
 "nbformat_minor": 4
}
