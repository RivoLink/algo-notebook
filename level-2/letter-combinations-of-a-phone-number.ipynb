{
 "cells": [
  {
   "cell_type": "markdown",
   "metadata": {},
   "source": [
    "### Letter Combinations of a Phone Number\n",
    "\n",
    "Given a string Containing digits from 2-9 inclusive, return all possible letter combinations that the number could represent.\n",
    "\n",
    "A mapping of digit to letters (just like on the telephone buttons) is given below. Note that 1 does not map to any letters.\n"
   ]
  },
  {
   "cell_type": "markdown",
   "metadata": {},
   "source": [
    "### Example\n",
    "Input: \"23\" \\\n",
    "Output: [\"ad\", \"ae\", \"af\", \"bd\", \"be\", \"bf\", \"cd\", \"ce\", \"cf\"].\n",
    "\n",
    "#### Note:\n",
    "Atlthough the above answer is in lexicographical order, your answer could be in any order you want.\n"
   ]
  },
  {
   "cell_type": "code",
   "execution_count": 1,
   "metadata": {},
   "outputs": [
    {
     "name": "stdout",
     "output_type": "stream",
     "text": [
      "['ad', 'ae', 'af', 'bd', 'be', 'bf', 'cd', 'ce', 'cf']\n"
     ]
    }
   ],
   "source": [
    "letters = [\n",
    "    ' ', '', 'abc', 'def', 'ghi', \n",
    "    'jkl', 'mno', 'pqrs', 'tuv', 'wxyz'\n",
    "]\n",
    "\n",
    "def lcpn(text):\n",
    "    \n",
    "    result = []\n",
    "    \n",
    "    if len(text) == 1:\n",
    "        return letters[int(text)]\n",
    "    \n",
    "    for n in letters[int(text[0])]:\n",
    "        for part in lcpn(text[1:]):\n",
    "            result += [n+part]\n",
    "            \n",
    "    return result\n",
    "\n",
    "print(lcpn(\"23\"))"
   ]
  },
  {
   "cell_type": "markdown",
   "metadata": {},
   "source": [
    "### Test"
   ]
  },
  {
   "cell_type": "code",
   "execution_count": 2,
   "metadata": {},
   "outputs": [
    {
     "name": "stdout",
     "output_type": "stream",
     "text": [
      "i: 23\n",
      "o: ['ad', 'ae', 'af', 'bd', 'be', 'bf', 'cd', 'ce', 'cf']\n",
      "\n",
      "i: 7486\n",
      "o: ['pgtm', 'pgtn', 'pgto', 'pgum', 'pgun', 'pguo', 'pgvm', 'pgvn', 'pgvo', 'phtm', 'phtn', 'phto', 'phum', 'phun', 'phuo', 'phvm', 'phvn', 'phvo', 'pitm', 'pitn', 'pito', 'pium', 'piun', 'piuo', 'pivm', 'pivn', 'pivo', 'qgtm', 'qgtn', 'qgto', 'qgum', 'qgun', 'qguo', 'qgvm', 'qgvn', 'qgvo', 'qhtm', 'qhtn', 'qhto', 'qhum', 'qhun', 'qhuo', 'qhvm', 'qhvn', 'qhvo', 'qitm', 'qitn', 'qito', 'qium', 'qiun', 'qiuo', 'qivm', 'qivn', 'qivo', 'rgtm', 'rgtn', 'rgto', 'rgum', 'rgun', 'rguo', 'rgvm', 'rgvn', 'rgvo', 'rhtm', 'rhtn', 'rhto', 'rhum', 'rhun', 'rhuo', 'rhvm', 'rhvn', 'rhvo', 'ritm', 'ritn', 'rito', 'rium', 'riun', 'riuo', 'rivm', 'rivn', 'rivo', 'sgtm', 'sgtn', 'sgto', 'sgum', 'sgun', 'sguo', 'sgvm', 'sgvn', 'sgvo', 'shtm', 'shtn', 'shto', 'shum', 'shun', 'shuo', 'shvm', 'shvn', 'shvo', 'sitm', 'sitn', 'sito', 'sium', 'siun', 'siuo', 'sivm', 'sivn', 'sivo']\n",
      "\n"
     ]
    }
   ],
   "source": [
    "def test(text):\n",
    "    result = lcpn(text)\n",
    "    \n",
    "    print(\"i: {}\".format(text))\n",
    "    print(\"o: {}\".format(result))\n",
    "    print()\n",
    "    \n",
    "# example test\n",
    "test(\"23\")\n",
    "\n",
    "# test \n",
    "test(\"7486\")\n"
   ]
  }
 ],
 "metadata": {
  "kernelspec": {
   "display_name": "Python 3",
   "language": "python",
   "name": "python3"
  },
  "language_info": {
   "codemirror_mode": {
    "name": "ipython",
    "version": 3
   },
   "file_extension": ".py",
   "mimetype": "text/x-python",
   "name": "python",
   "nbconvert_exporter": "python",
   "pygments_lexer": "ipython3",
   "version": "3.8.3"
  }
 },
 "nbformat": 4,
 "nbformat_minor": 4
}
