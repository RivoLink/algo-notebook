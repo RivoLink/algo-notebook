{
 "cells": [
  {
   "cell_type": "markdown",
   "metadata": {},
   "source": [
    "### ZigZag Conversion\n",
    "\n",
    "The string \"PAYPALISHIRING\" is written in a zigzag pattern on a given number of rows like this (you may want to display this pattern in a fixed font for better legibility)\n",
    "\n",
    "<pre>\n",
    "P   A   H   N \n",
    "A P L S I I G \n",
    "Y   I   R\n",
    "</pre>\n",
    "\n",
    "And then read line by line: \"PAHNAPLSIIGYIR\"\n",
    "\n",
    "Write the code that will take a string and make this conversion given a number of rows string convert(string s, int numRows);\n"
   ]
  },
  {
   "cell_type": "markdown",
   "metadata": {},
   "source": [
    "### Example \n",
    "#### Example 1\n",
    "Input: s = \"PAYPALISHIRING\" \\\n",
    "numRowS = 3 \\\n",
    "Output: \"PAHNAPLSIIGYIR\"\n",
    "\n",
    "#### Example 2\n",
    "Input s = \"PAYPALISHIRING\" \\\n",
    "numRows = 4 \\\n",
    "Output: \"PINALSIGYAHRPI\" \\\n",
    "Explanation:\n",
    "\n",
    "<pre>\n",
    "P     I     N\n",
    "A   L S   I G\n",
    "Y A   H R \n",
    "P     I\n",
    "</pre>"
   ]
  },
  {
   "cell_type": "markdown",
   "metadata": {},
   "source": [
    "### Solution"
   ]
  },
  {
   "cell_type": "code",
   "execution_count": 1,
   "metadata": {},
   "outputs": [
    {
     "name": "stdout",
     "output_type": "stream",
     "text": [
      "PINALSIGYAHRPI\n"
     ]
    }
   ],
   "source": [
    "def zzc(s,rows):\n",
    "    i, l, sb = 0, len(s), ['']*rows\n",
    "    \n",
    "    while i < l:\n",
    "        for j in range(rows):\n",
    "            if i < l:\n",
    "                sb[j] = sb[j] + str(s[i])\n",
    "                i = i+1\n",
    "                \n",
    "        for j in range(rows-2, 0, -1):\n",
    "            if i < l:\n",
    "                sb[j] = sb[j] + str(s[i])\n",
    "                i = i+1\n",
    "    \n",
    "    return ''.join(sb)\n",
    "\n",
    "print(zzc(\"PAYPALISHIRING\",4))"
   ]
  },
  {
   "cell_type": "markdown",
   "metadata": {},
   "source": [
    "### Test"
   ]
  },
  {
   "cell_type": "code",
   "execution_count": 2,
   "metadata": {},
   "outputs": [
    {
     "name": "stdout",
     "output_type": "stream",
     "text": [
      "s: PAYPALISHIRING, 3\n",
      "zzc: PAHNAPLSIIGYIR\n",
      "\n",
      "s: PAYPALISHIRING, 4\n",
      "zzc: PINALSIGYAHRPI\n",
      "\n",
      "s: PAYPALISHIRING, 1\n",
      "zzc: PAYPALISHIRING\n",
      "\n"
     ]
    }
   ],
   "source": [
    "def test(s, rows):\n",
    "    result = zzc(s, rows)\n",
    "    \n",
    "    print(\"s: {}, {}\".format(s, rows))\n",
    "    print(\"zzc: {}\".format(result))\n",
    "    print()\n",
    "    \n",
    "# example test 1\n",
    "test(\"PAYPALISHIRING\", 3)\n",
    "\n",
    "# example test 2\n",
    "test(\"PAYPALISHIRING\", 4)\n",
    "\n",
    "# unit test\n",
    "test(\"PAYPALISHIRING\", 1)\n"
   ]
  }
 ],
 "metadata": {
  "kernelspec": {
   "display_name": "Python 3",
   "language": "python",
   "name": "python3"
  },
  "language_info": {
   "codemirror_mode": {
    "name": "ipython",
    "version": 3
   },
   "file_extension": ".py",
   "mimetype": "text/x-python",
   "name": "python",
   "nbconvert_exporter": "python",
   "pygments_lexer": "ipython3",
   "version": "3.8.3"
  }
 },
 "nbformat": 4,
 "nbformat_minor": 4
}
