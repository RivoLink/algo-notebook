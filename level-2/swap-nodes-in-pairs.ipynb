{
 "cells": [
  {
   "cell_type": "markdown",
   "metadata": {},
   "source": [
    "### Swap Nodes in Pairs\n",
    "\n",
    "Given a linked list, swap every two adjacent nodes and return its head.\n",
    "\n",
    "#### Note\n",
    "Your algorithm should use only constant extra space. \\\n",
    "You may not modify the values in the list's nodes, only nodes itself may be changed.\n"
   ]
  },
  {
   "cell_type": "markdown",
   "metadata": {},
   "source": [
    "### Example\n",
    "Input: 1->2->3->4 \\\n",
    "Output: 2->1->4->3\n"
   ]
  },
  {
   "cell_type": "markdown",
   "metadata": {},
   "source": [
    "### Solution"
   ]
  },
  {
   "cell_type": "code",
   "execution_count": 1,
   "metadata": {},
   "outputs": [],
   "source": [
    "class ListNode:\n",
    "    \n",
    "    def __init__(self, data):\n",
    "        self.data = data\n",
    "        self.next = None\n",
    "        \n",
    "    def __str__(self):\n",
    "        s, temp = '', self\n",
    "        while temp:\n",
    "            s += str(temp.data)\n",
    "            temp = temp.next\n",
    "            \n",
    "            if temp:\n",
    "                s += '->'\n",
    "                \n",
    "        return s\n"
   ]
  },
  {
   "cell_type": "code",
   "execution_count": 2,
   "metadata": {},
   "outputs": [],
   "source": [
    "def snip(head):\n",
    "    result = ListNode(-1)\n",
    "    \n",
    "    first = result\n",
    "    first.next = head\n",
    "    \n",
    "    while first.next and first.next.next:\n",
    "        \n",
    "        a = first.next\n",
    "        b = first.next.next\n",
    "        queue = first.next.next.next\n",
    "        \n",
    "        first.next = b\n",
    "        first.next.next = a\n",
    "        first.next.next.next = queue\n",
    "        \n",
    "        first = first.next.next\n",
    "        \n",
    "    return result.next\n"
   ]
  },
  {
   "cell_type": "markdown",
   "metadata": {},
   "source": [
    "### Test"
   ]
  },
  {
   "cell_type": "code",
   "execution_count": 3,
   "metadata": {},
   "outputs": [
    {
     "name": "stdout",
     "output_type": "stream",
     "text": [
      "1->2->3->4\n",
      "2->1->4->3\n"
     ]
    }
   ],
   "source": [
    "# example test\n",
    "\n",
    "head = ListNode(1)\n",
    "temp = head\n",
    "\n",
    "for i in range(2,5):\n",
    "    temp.next = ListNode(i)\n",
    "    temp = temp.next\n",
    "    \n",
    "print(head)\n",
    "print(snip(head))\n"
   ]
  },
  {
   "cell_type": "code",
   "execution_count": 4,
   "metadata": {},
   "outputs": [
    {
     "name": "stdout",
     "output_type": "stream",
     "text": [
      "1->2->3->4->5->6->7->8->9\n",
      "2->1->4->3->6->5->8->7->9\n"
     ]
    }
   ],
   "source": [
    "# test\n",
    "\n",
    "head = ListNode(1)\n",
    "temp = head\n",
    "\n",
    "for i in range(2,10):\n",
    "    temp.next = ListNode(i)\n",
    "    temp = temp.next\n",
    "    \n",
    "print(head)\n",
    "print(snip(head))\n"
   ]
  }
 ],
 "metadata": {
  "kernelspec": {
   "display_name": "Python 3",
   "language": "python",
   "name": "python3"
  },
  "language_info": {
   "codemirror_mode": {
    "name": "ipython",
    "version": 3
   },
   "file_extension": ".py",
   "mimetype": "text/x-python",
   "name": "python",
   "nbconvert_exporter": "python",
   "pygments_lexer": "ipython3",
   "version": "3.8.3"
  }
 },
 "nbformat": 4,
 "nbformat_minor": 4
}
