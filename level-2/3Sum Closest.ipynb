{
 "cells": [
  {
   "cell_type": "markdown",
   "metadata": {},
   "source": [
    "### 3Sum Closest\n",
    "\n",
    "Given an array nums ofn integers and an integer target, find three integers in nums such that the sum is closest to target. Return the sum of the three integers. You may assume that each input would have exactly one solution.\n"
   ]
  },
  {
   "cell_type": "markdown",
   "metadata": {},
   "source": [
    "### Example\n",
    "\n",
    "Input: nums = [-1, 2, 1, -4], target = 1.\\\n",
    "Output: 2 \\\n",
    "Explanation: The sum that is closest to the target is 2. (-1 + 2 + 1 = 2).\n",
    "\n",
    "\n"
   ]
  },
  {
   "cell_type": "markdown",
   "metadata": {},
   "source": [
    "### Solution"
   ]
  },
  {
   "cell_type": "code",
   "execution_count": 1,
   "metadata": {},
   "outputs": [
    {
     "name": "stdout",
     "output_type": "stream",
     "text": [
      "2\n"
     ]
    }
   ],
   "source": [
    "def three_sum_closest(nums, target):\n",
    "    \n",
    "    nums = nums.copy()\n",
    "    nums.sort()\n",
    "    \n",
    "    closest, l = 0, len(nums)\n",
    "    \n",
    "    for i in range(min(3, l)):\n",
    "        closest += nums[i]\n",
    "        \n",
    "    if l == 3:\n",
    "        return closest\n",
    "    \n",
    "    for i in range(l-2):\n",
    "        lo = i+1\n",
    "        hi = l-1\n",
    "        \n",
    "        while lo < hi:\n",
    "            s = nums[i] + nums[lo] + nums[hi]\n",
    "            \n",
    "            if abs(target-s) < abs(target-closest):\n",
    "                closest = s\n",
    "                \n",
    "                if closest == target:\n",
    "                    return closest\n",
    "                \n",
    "            if s < target:\n",
    "                lo += 1\n",
    "            else:\n",
    "                hi -= 1\n",
    "            \n",
    "    return closest\n",
    "                   \n",
    "print(three_sum_closest([-1, 2, 1, -4], 1))"
   ]
  },
  {
   "cell_type": "markdown",
   "metadata": {},
   "source": [
    "### Test"
   ]
  },
  {
   "cell_type": "code",
   "execution_count": 2,
   "metadata": {},
   "outputs": [
    {
     "name": "stdout",
     "output_type": "stream",
     "text": [
      "nums: [-1, 2, 1, -4], target: 1\n",
      "closest: 2\n",
      "\n",
      "nums: [-1, 2, 1, -4], target: -1\n",
      "closest: -1\n",
      "\n"
     ]
    }
   ],
   "source": [
    "def test(nums, target):\n",
    "    result = three_sum_closest(nums, target)\n",
    "    \n",
    "    print(\"nums: {}, target: {}\".format(nums, target))\n",
    "    print(\"closest: {}\".format(result))\n",
    "    print()\n",
    "    \n",
    "# example test \n",
    "test([-1, 2, 1, -4], 1)\n",
    "\n",
    "# test\n",
    "test([-1, 2, 1, -4], -1)\n"
   ]
  }
 ],
 "metadata": {
  "kernelspec": {
   "display_name": "Python 3",
   "language": "python",
   "name": "python3"
  },
  "language_info": {
   "codemirror_mode": {
    "name": "ipython",
    "version": 3
   },
   "file_extension": ".py",
   "mimetype": "text/x-python",
   "name": "python",
   "nbconvert_exporter": "python",
   "pygments_lexer": "ipython3",
   "version": "3.8.3"
  }
 },
 "nbformat": 4,
 "nbformat_minor": 4
}
