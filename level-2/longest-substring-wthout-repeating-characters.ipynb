{
 "cells": [
  {
   "cell_type": "markdown",
   "metadata": {},
   "source": [
    "### Longest Substring Without Repeating Characters\n",
    "Given a string, find the length of the longest substring without repeating characters.\n",
    "\n",
    "\n",
    "\n",
    "\n",
    "\n",
    "\n"
   ]
  },
  {
   "cell_type": "markdown",
   "metadata": {},
   "source": [
    "### Example\n",
    "\n",
    "#### Example 1\n",
    "Input: \"abcabcbb\" \\\n",
    "Output: 3 \\\n",
    "Explanation: The answer is \"abc\",\n",
    "with the length of 3.\n",
    "\n",
    "#### Example 2\n",
    "Input: \"bbbbb\" \\\n",
    "Output: 1 \\\n",
    "Explanation: The answer is \"b\",\n",
    "with the length of 1.\n",
    "\n",
    "#### Example 3\n",
    "Input: \"pwwkew\" \\\n",
    "Output: 3 \\\n",
    "Explanation:\n",
    "The answer is \"wke\", with the\n",
    "length of 3.\n",
    "\n",
    "Note that the answer must be a substring, \"pwke\" is a subsequence\n",
    "and not a substring."
   ]
  },
  {
   "cell_type": "markdown",
   "metadata": {},
   "source": [
    "### Solution"
   ]
  },
  {
   "cell_type": "code",
   "execution_count": 1,
   "metadata": {},
   "outputs": [],
   "source": [
    "import numpy as np"
   ]
  },
  {
   "cell_type": "code",
   "execution_count": 2,
   "metadata": {},
   "outputs": [
    {
     "name": "stdout",
     "output_type": "stream",
     "text": [
      "3\n"
     ]
    }
   ],
   "source": [
    "def offset(char):\n",
    "    return ord(char)-97\n",
    "\n",
    "def lswrc(str):\n",
    "    result = 0\n",
    "    indexs = np.zeros(26)\n",
    "    \n",
    "    i = 0\n",
    "    for j in range(len(str)):\n",
    "        i = max(indexs[offset(str[j])], i)\n",
    "        result = max(result, j-i+1)\n",
    "        indexs[offset(str[j])] = j+1\n",
    "        \n",
    "    return int(result)\n",
    "\n",
    "print(lswrc('pwwkew'))"
   ]
  },
  {
   "cell_type": "markdown",
   "metadata": {},
   "source": [
    "### Explication\n",
    "- the variable **indexs** stores the last position of each visited alphabet\n",
    "- the variable **i** points to the position of the last repeated alphabet\n",
    "- the variable **j** is the cursor\n",
    "- the variable **result** is the difference or distance between i and j"
   ]
  },
  {
   "cell_type": "markdown",
   "metadata": {},
   "source": [
    "### Test"
   ]
  },
  {
   "cell_type": "code",
   "execution_count": 3,
   "metadata": {},
   "outputs": [
    {
     "name": "stdout",
     "output_type": "stream",
     "text": [
      "str: abcabcbb\n",
      "lswrc: 3\n",
      "\n",
      "str: bbbbb\n",
      "lswrc: 1\n",
      "\n",
      "str: pwwkew\n",
      "lswrc: 3\n",
      "\n",
      "str: sacvaijck\n",
      "lswrc: 6\n",
      "\n"
     ]
    }
   ],
   "source": [
    "def test(str):\n",
    "    result = lswrc(str)\n",
    "    \n",
    "    print(\"str: {}\".format(str))\n",
    "    print(\"lswrc: {}\".format(result))\n",
    "    print()\n",
    "    \n",
    "# test exemple 1\n",
    "test('abcabcbb')\n",
    "\n",
    "# test exemple 2\n",
    "test('bbbbb')\n",
    "\n",
    "#test exemple 3\n",
    "test('pwwkew')\n",
    "\n",
    "#test exemple 4\n",
    "test('sacvaijck')"
   ]
  }
 ],
 "metadata": {
  "kernelspec": {
   "display_name": "Python 3",
   "language": "python",
   "name": "python3"
  },
  "language_info": {
   "codemirror_mode": {
    "name": "ipython",
    "version": 3
   },
   "file_extension": ".py",
   "mimetype": "text/x-python",
   "name": "python",
   "nbconvert_exporter": "python",
   "pygments_lexer": "ipython3",
   "version": "3.8.3"
  }
 },
 "nbformat": 4,
 "nbformat_minor": 4
}
