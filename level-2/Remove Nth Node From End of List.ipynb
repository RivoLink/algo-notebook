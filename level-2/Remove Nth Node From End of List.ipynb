{
 "cells": [
  {
   "cell_type": "markdown",
   "metadata": {},
   "source": [
    "### Remove Nth Node From End of List\n",
    "\n",
    "Given a linked list, remove the n-th node from the end of list and return its head.\n",
    "\n"
   ]
  },
  {
   "cell_type": "markdown",
   "metadata": {},
   "source": [
    "### Example\n",
    "\n",
    "Input: list: 1->2->3->4->5, n = 2. \\\n",
    "Output: 1->2->3->5. \\\n",
    "Explanation: After removing the second node from the end, the linked list becomes 1->2->3->5.\n",
    "\n",
    "#### Note\n",
    "Given n will always be valid.\n",
    "\n",
    "#### Follow up\n",
    "Could you do this in one pass?\n"
   ]
  },
  {
   "cell_type": "markdown",
   "metadata": {},
   "source": [
    "### Solution"
   ]
  },
  {
   "cell_type": "code",
   "execution_count": 1,
   "metadata": {},
   "outputs": [],
   "source": [
    "class ListNode:\n",
    "    \n",
    "    def __init__(self, data):\n",
    "        self.data = data\n",
    "        self.next = None\n",
    "        \n",
    "    def __str__(self):\n",
    "    \n",
    "        s,temp = '', self\n",
    "        \n",
    "        while temp:\n",
    "            s += str(temp.data)\n",
    "            temp = temp.next\n",
    "            \n",
    "            if temp:\n",
    "                s += '->'\n",
    "                \n",
    "        return s\n",
    "    \n",
    "\n",
    "def rm_nth_fe(head, n):\n",
    "    dummy = ListNode(0)\n",
    "    dummy.next = head\n",
    "\n",
    "    first = dummy\n",
    "    second = dummy\n",
    "\n",
    "    for _ in range(n+1):\n",
    "        first = first.next\n",
    "\n",
    "    while first:\n",
    "        first = first.next\n",
    "        second = second.next\n",
    "\n",
    "    second.next = second.next.next\n",
    "    return dummy.next\n"
   ]
  },
  {
   "cell_type": "markdown",
   "metadata": {},
   "source": [
    "### Test"
   ]
  },
  {
   "cell_type": "code",
   "execution_count": 2,
   "metadata": {},
   "outputs": [
    {
     "name": "stdout",
     "output_type": "stream",
     "text": [
      "list: 1->2->3->4->5, n=2\n",
      "output: 1->2->3->5\n",
      "\n"
     ]
    }
   ],
   "source": [
    "def test(head, n):\n",
    "    text = \"list: {}, n={}\".format(head, n)\n",
    "    result = rm_nth_fe(head, n)\n",
    "    \n",
    "    print(text)\n",
    "    print(\"output: {}\".format(result))\n",
    "    print()\n",
    "    \n",
    "# example test\n",
    "n1 = ListNode(1)\n",
    "n2 = ListNode(2)\n",
    "n3 = ListNode(3)\n",
    "n4 = ListNode(4)\n",
    "n5 = ListNode(5)\n",
    "\n",
    "n1.next = n2\n",
    "n2.next = n3\n",
    "n3.next = n4\n",
    "n4.next = n5\n",
    "\n",
    "test(n1, 2)\n"
   ]
  }
 ],
 "metadata": {
  "kernelspec": {
   "display_name": "Python 3",
   "language": "python",
   "name": "python3"
  },
  "language_info": {
   "codemirror_mode": {
    "name": "ipython",
    "version": 3
   },
   "file_extension": ".py",
   "mimetype": "text/x-python",
   "name": "python",
   "nbconvert_exporter": "python",
   "pygments_lexer": "ipython3",
   "version": "3.8.3"
  }
 },
 "nbformat": 4,
 "nbformat_minor": 4
}
