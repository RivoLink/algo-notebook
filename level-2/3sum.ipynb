{
 "cells": [
  {
   "cell_type": "markdown",
   "metadata": {},
   "source": [
    "### 3Sum\n",
    "\n",
    "Given an array nums of n integers, are there elements a, b, c in nums such that a + b + c = 0? Find all unique triplets in the array which gives the sum of zero.\n",
    "\n",
    "#### Note:\n",
    "The solution set must not contain duplicate triplets.\n"
   ]
  },
  {
   "cell_type": "markdown",
   "metadata": {},
   "source": [
    "### Example\n",
    "Input: [-1, 0, 1, 2, -1, -1] \\\n",
    "Output: [[1, 1, 2], [-1, 0, 1]]\n"
   ]
  },
  {
   "cell_type": "markdown",
   "metadata": {},
   "source": [
    "### Solution"
   ]
  },
  {
   "cell_type": "code",
   "execution_count": 1,
   "metadata": {},
   "outputs": [
    {
     "name": "stdout",
     "output_type": "stream",
     "text": [
      "[[-1, -1, 2], [-1, 0, 1]]\n"
     ]
    }
   ],
   "source": [
    "def three_sum(nums):\n",
    "    \n",
    "    result = []\n",
    "    \n",
    "    nums = nums.copy()\n",
    "    nums.sort()\n",
    "    \n",
    "    for i,num in enumerate(nums):\n",
    "        \n",
    "        if num > 0:\n",
    "            break;\n",
    "            \n",
    "        if i and num == nums[i-1]:\n",
    "            continue\n",
    "            \n",
    "        j, k = i+1, len(nums)-1\n",
    "        \n",
    "        while j<k:\n",
    "            \n",
    "            if num + nums[j] > 0:\n",
    "                break\n",
    "                \n",
    "            if j > i+1 and nums[j] == nums[j-1]:\n",
    "                j += 1\n",
    "                continue\n",
    "                \n",
    "            if num + nums[j] + nums[k] < 0:\n",
    "                j += 1\n",
    "            elif num + nums[j] + nums[k] > 0:\n",
    "                k -= 1\n",
    "            else:\n",
    "                result += [[num, nums[j], nums[k]]]\n",
    "                j += 1\n",
    "                k -= 1\n",
    "                \n",
    "    return result\n",
    "\n",
    "print(three_sum([-1, 0, 1, 2, -1, -1]))"
   ]
  },
  {
   "cell_type": "markdown",
   "metadata": {},
   "source": [
    "### Test"
   ]
  },
  {
   "cell_type": "code",
   "execution_count": 2,
   "metadata": {
    "scrolled": false
   },
   "outputs": [
    {
     "name": "stdout",
     "output_type": "stream",
     "text": [
      "i: [-1, 0, 1, 2, -1, -1]\n",
      "o: [[-1, -1, 2], [-1, 0, 1]]\n",
      "\n",
      "i: [-2, 0, 2, -2, 0, 2]\n",
      "o: [[-2, 0, 2]]\n",
      "\n",
      "i: [0, -1, 1, -2, 2]\n",
      "o: [[-2, 0, 2], [-1, 0, 1]]\n",
      "\n",
      "i: [-1, 0, -2, 3]\n",
      "o: [[-2, -1, 3]]\n",
      "\n"
     ]
    }
   ],
   "source": [
    "def test(nums):\n",
    "    result = three_sum(nums)\n",
    "    \n",
    "    print(\"i: {}\".format(nums))\n",
    "    print(\"o: {}\".format(result))\n",
    "    print()\n",
    "\n",
    "# example test\n",
    "test([-1, 0, 1, 2, -1, -1])\n",
    "\n",
    "# test duplication\n",
    "test([-2, 0, 2, -2, 0, 2])\n",
    "\n",
    "# test a+b+c = a+x+y = 0\n",
    "test([0, -1, 1, -2, 2])\n",
    "\n",
    "# test\n",
    "test([-1, 0, -2, 3])\n"
   ]
  }
 ],
 "metadata": {
  "kernelspec": {
   "display_name": "Python 3",
   "language": "python",
   "name": "python3"
  },
  "language_info": {
   "codemirror_mode": {
    "name": "ipython",
    "version": 3
   },
   "file_extension": ".py",
   "mimetype": "text/x-python",
   "name": "python",
   "nbconvert_exporter": "python",
   "pygments_lexer": "ipython3",
   "version": "3.8.3"
  }
 },
 "nbformat": 4,
 "nbformat_minor": 4
}
