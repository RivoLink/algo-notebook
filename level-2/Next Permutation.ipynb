{
 "cells": [
  {
   "cell_type": "markdown",
   "metadata": {},
   "source": [
    "### Next Permutation\n",
    "\n",
    "Implement next permutation, which rearranges numbers into the lexicographically next greater permutation of numbers.\n",
    "\n",
    "If such arrangement is not possible, it must rearrange it as the lowest possible order (ie, sorted in ascending order).\n",
    "\n",
    "The replacement must be in-place and use only constant extra memory.\n"
   ]
  },
  {
   "cell_type": "markdown",
   "metadata": {},
   "source": [
    "### Example\n",
    "\n",
    "Here are some examples. Inputs are in the left-hand column and its corresponding outputs are in the right-hand column.\n",
    "\n",
    "1, 2, 3 -> 1, 3, 2 \\\n",
    "3, 2, 1 -> 1, 2, 3 \\\n",
    "1, 1, 5 -> 1, 5, 1 \n"
   ]
  },
  {
   "cell_type": "markdown",
   "metadata": {},
   "source": [
    "### Solution"
   ]
  },
  {
   "cell_type": "code",
   "execution_count": 1,
   "metadata": {},
   "outputs": [],
   "source": [
    "def swap(nums, i, j):\n",
    "    nums[i], nums[j] = nums[j], nums[i]\n",
    "    \n",
    "def reverse(nums, start):\n",
    "    i, j = start, len(nums)-1\n",
    "    \n",
    "    while i<j:\n",
    "        swap(nums, i, j)\n",
    "        i += 1\n",
    "        j -= 1\n",
    "\n",
    "def np(nums):\n",
    "    i = len(nums)-2\n",
    "    \n",
    "    while i >= 0 and nums[i+1] <= nums[i]:\n",
    "        i -= 1\n",
    "        \n",
    "    if i >= 0:\n",
    "        j = len(nums)-1\n",
    "        \n",
    "        while j >= 0 and nums[j] <= nums[i]:\n",
    "            j -= 1\n",
    "            \n",
    "        swap(nums, i, j)\n",
    "        \n",
    "    reverse(nums, i+1)\n"
   ]
  },
  {
   "cell_type": "markdown",
   "metadata": {},
   "source": [
    "### Test"
   ]
  },
  {
   "cell_type": "code",
   "execution_count": 2,
   "metadata": {},
   "outputs": [
    {
     "name": "stdout",
     "output_type": "stream",
     "text": [
      "i: [1, 2, 3]\n",
      "o: [1, 3, 2]\n",
      "\n",
      "i: [3, 2, 1]\n",
      "o: [1, 2, 3]\n",
      "\n",
      "i: [1, 1, 5]\n",
      "o: [1, 5, 1]\n",
      "\n",
      "i: [1, 2, 3, 4]\n",
      "o: [1, 2, 4, 3]\n",
      "\n",
      "i: [1, 2, 4, 3]\n",
      "o: [1, 3, 2, 4]\n",
      "\n"
     ]
    }
   ],
   "source": [
    "def test(nums):\n",
    "    print(\"i: {}\".format(nums))\n",
    "    np(nums)\n",
    "    print(\"o: {}\".format(nums))\n",
    "    print()\n",
    "    \n",
    "# example test 1\n",
    "test([1, 2, 3])\n",
    "\n",
    "# example test 2\n",
    "test([3, 2, 1])\n",
    "\n",
    "# example test 3\n",
    "test([1, 1, 5])\n",
    "\n",
    "# test \n",
    "test([1, 2, 3, 4])\n",
    "\n",
    "# test \n",
    "test([1, 2, 4, 3])\n"
   ]
  }
 ],
 "metadata": {
  "kernelspec": {
   "display_name": "Python 3",
   "language": "python",
   "name": "python3"
  },
  "language_info": {
   "codemirror_mode": {
    "name": "ipython",
    "version": 3
   },
   "file_extension": ".py",
   "mimetype": "text/x-python",
   "name": "python",
   "nbconvert_exporter": "python",
   "pygments_lexer": "ipython3",
   "version": "3.8.3"
  }
 },
 "nbformat": 4,
 "nbformat_minor": 4
}
