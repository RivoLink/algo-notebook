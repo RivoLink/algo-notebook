{
 "cells": [
  {
   "cell_type": "markdown",
   "metadata": {},
   "source": [
    "### Longest Common Prefix\n",
    "\n",
    "Write a function to find the longest common prefix string amongst an array of strings.\n",
    "\n",
    "If there is no common prefix, return an empty string \"\".\n"
   ]
  },
  {
   "cell_type": "markdown",
   "metadata": {},
   "source": [
    "### Example\n",
    "\n",
    "#### Example 1\n",
    "Input: [\"flower\", \"flow\", \"flight\"] \\\n",
    "Output: \"fl\"\n",
    "\n",
    "#### Example 2\n",
    "Input: [\"dog\", \"racecar\", \"car\"] \\\n",
    "Output: \"\" \\\n",
    "Explanation: There is no common\n",
    "prefix among the input strings\n",
    "\n",
    "#### Note:\n",
    "All given inputs are in lowercase letters a-z.\n"
   ]
  },
  {
   "cell_type": "markdown",
   "metadata": {},
   "source": [
    "### Solution"
   ]
  },
  {
   "cell_type": "code",
   "execution_count": 1,
   "metadata": {},
   "outputs": [
    {
     "name": "stdout",
     "output_type": "stream",
     "text": [
      "fl\n"
     ]
    }
   ],
   "source": [
    "def lcp(texts):\n",
    "    \n",
    "    prefix = ''\n",
    "    min_text = min(texts, key=len)\n",
    "    \n",
    "    for s in min_text:\n",
    "        prefix += s\n",
    "        \n",
    "        for text in texts:\n",
    "            if not (text.find(prefix) == 0):\n",
    "                return prefix[:-1]\n",
    "            \n",
    "    return prefix\n",
    "\n",
    "print(lcp([\"flower\", \"flow\", \"flight\"]))"
   ]
  },
  {
   "cell_type": "markdown",
   "metadata": {},
   "source": [
    "### Test"
   ]
  },
  {
   "cell_type": "code",
   "execution_count": 2,
   "metadata": {},
   "outputs": [
    {
     "name": "stdout",
     "output_type": "stream",
     "text": [
      "i: ['flower', 'flow', 'flight']\n",
      "o: fl\n",
      "\n",
      "i: ['dog', 'racecar', 'car']\n",
      "o: \n",
      "\n",
      "i: ['home', 'house']\n",
      "o: ho\n",
      "\n",
      "i: ['home', 'house', 'car']\n",
      "o: \n",
      "\n"
     ]
    }
   ],
   "source": [
    "def test(texts):\n",
    "    result = lcp(texts)\n",
    "    \n",
    "    print(\"i: {}\".format(texts))\n",
    "    print(\"o: {}\".format(result))\n",
    "    print()\n",
    "    \n",
    "# example test 1\n",
    "test([\"flower\", \"flow\", \"flight\"])\n",
    "\n",
    "# example test 2\n",
    "test([\"dog\", \"racecar\", \"car\"])\n",
    "\n",
    "# test \n",
    "test([\"home\", \"house\"])\n",
    "\n",
    "# test \n",
    "test([\"home\", \"house\", \"car\"])"
   ]
  }
 ],
 "metadata": {
  "kernelspec": {
   "display_name": "Python 3",
   "language": "python",
   "name": "python3"
  },
  "language_info": {
   "codemirror_mode": {
    "name": "ipython",
    "version": 3
   },
   "file_extension": ".py",
   "mimetype": "text/x-python",
   "name": "python",
   "nbconvert_exporter": "python",
   "pygments_lexer": "ipython3",
   "version": "3.8.3"
  }
 },
 "nbformat": 4,
 "nbformat_minor": 4
}
