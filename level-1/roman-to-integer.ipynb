{
 "cells": [
  {
   "cell_type": "markdown",
   "metadata": {},
   "source": [
    "### Roman to Integer\n",
    "\n",
    "Roman numerals are represented by seven different symbols: I, V, X, L, C, D and M.\n",
    "\n",
    "<pre>\n",
    "Symbol          Value\n",
    "\n",
    "I               1\n",
    "V               5\n",
    "X               10\n",
    "L               50\n",
    "C               100\n",
    "D               500\n",
    "M               1000\n",
    "</pre>\n",
    "\n",
    "For example, two is written as II in Roman numeral, just two one's added together. Twelve is written as, XII, which is simply X + II. \\\n",
    "The number twenty seven is written\n",
    "as XXVII, which is XX + V + II.\n",
    "\n",
    "Roman numerals are usually written largest to smallest from left to right. However, the numeral for four is not IIII. Instead, number four is written as IV. \\\n",
    "Because the one is before the five we subtract it making four. \\\n",
    "The same principle applies to the number nine, which is written as\n",
    "IX. There are six instances where subtraction is used:\n",
    "\n",
    "I can be placed before V (5) and X\n",
    "(10) to make 4 and 9. \\\n",
    "X can be placed before L (50) and C (100) to make 40 and 90. \\\n",
    "C can be placed before D (500) and M (1000) to make 400 and 900.\n",
    "\n",
    "Given an integer, convert it to a roman numeral. Input is guaranteed to be within the range from 1 to 3999.\n"
   ]
  },
  {
   "cell_type": "markdown",
   "metadata": {},
   "source": [
    "### Example\n",
    "\n",
    "#### Example 1\n",
    "Input: \"III\" \\\n",
    "Output: 3\n",
    "\n",
    "#### Example 2\n",
    "Input: \"IV\" \\\n",
    "Output : 4\n",
    "\n",
    "#### Example 3\n",
    "Input: \"IX\" \\\n",
    "Output: 9\n",
    "\n",
    "#### Example 4\n",
    "Input: \"LVIII\" \\\n",
    "Output: 58 \\\n",
    "Explanation: L = 50, V= 5, III = 3.\n",
    "\n",
    "#### Example 5\n",
    "Input: \"MCMXCIV\" \\\n",
    "Output: 1994 \\\n",
    "Explanation: M = 1000, CM = 900, XC\n",
    "90 and IV = 4.\n"
   ]
  },
  {
   "cell_type": "markdown",
   "metadata": {},
   "source": [
    "### Solution"
   ]
  },
  {
   "cell_type": "code",
   "execution_count": 1,
   "metadata": {},
   "outputs": [
    {
     "name": "stdout",
     "output_type": "stream",
     "text": [
      "3\n"
     ]
    }
   ],
   "source": [
    "symbols = {\n",
    "    1: 'I',\n",
    "    5: 'V',\n",
    "    10: 'X',\n",
    "    50: 'L',\n",
    "    100: 'C',\n",
    "    500: 'D',\n",
    "    1000: 'M'\n",
    "}\n",
    "\n",
    "def rtoi(roman):\n",
    "    \n",
    "    i, val, div = 0, 0, 1000\n",
    "    \n",
    "    while 0 < div and i < len(roman):\n",
    "        \n",
    "        if i+1 < len(roman) and roman[i+1] == symbols.get(div*5):\n",
    "            val += div*5 - div\n",
    "            div = int(div/10)\n",
    "            i += 2\n",
    "        elif i+1 < len(roman) and roman[i+1] == symbols.get(div*10):\n",
    "            val += div*10 - div\n",
    "            div = int(div/10)\n",
    "            i += 2\n",
    "        elif roman[i] == symbols.get(div):\n",
    "            val += div\n",
    "            i += 1\n",
    "        elif str(div)[0] == '1':\n",
    "            div = int(div/2)\n",
    "        else:\n",
    "            div = int(div/5)\n",
    "            \n",
    "    return val\n",
    "\n",
    "print(rtoi(\"III\"))"
   ]
  },
  {
   "cell_type": "markdown",
   "metadata": {},
   "source": [
    "### Test"
   ]
  },
  {
   "cell_type": "code",
   "execution_count": 2,
   "metadata": {},
   "outputs": [
    {
     "name": "stdout",
     "output_type": "stream",
     "text": [
      "roman: III\n",
      "value: 3\n",
      "\n",
      "roman: IV\n",
      "value: 4\n",
      "\n",
      "roman: IX\n",
      "value: 9\n",
      "\n",
      "roman: LVIII\n",
      "value: 58\n",
      "\n",
      "roman: MCMXCIV\n",
      "value: 1994\n",
      "\n",
      "roman: MMMCMXLIX\n",
      "value: 3949\n",
      "\n"
     ]
    }
   ],
   "source": [
    "def test(roman):\n",
    "    result = rtoi(roman)\n",
    "    \n",
    "    print(\"roman: {}\".format(roman))\n",
    "    print(\"value: {}\".format(result))\n",
    "    print()\n",
    "    \n",
    "# example test 1\n",
    "test(\"III\")\n",
    "\n",
    "# example test 2\n",
    "test(\"IV\")\n",
    "\n",
    "# example test 3\n",
    "test(\"IX\")\n",
    "\n",
    "# example test\n",
    "test(\"LVIII\")\n",
    "\n",
    "# example test\n",
    "test(\"MCMXCIV\")\n",
    "\n",
    "# test MMMCMXLIX => 3949\n",
    "test(\"MMMCMXLIX\")\n"
   ]
  }
 ],
 "metadata": {
  "kernelspec": {
   "display_name": "Python 3",
   "language": "python",
   "name": "python3"
  },
  "language_info": {
   "codemirror_mode": {
    "name": "ipython",
    "version": 3
   },
   "file_extension": ".py",
   "mimetype": "text/x-python",
   "name": "python",
   "nbconvert_exporter": "python",
   "pygments_lexer": "ipython3",
   "version": "3.8.3"
  }
 },
 "nbformat": 4,
 "nbformat_minor": 4
}
