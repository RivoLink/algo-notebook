{
 "cells": [
  {
   "cell_type": "markdown",
   "metadata": {},
   "source": [
    "### Search Insert Position\n",
    "\n",
    "Given a sorted array and a target value, return the index if the target is found. If not, return the index where it would be if it were inserted in order.\n",
    "\n",
    "You may assume no duplicates in the array.\n"
   ]
  },
  {
   "cell_type": "markdown",
   "metadata": {},
   "source": [
    "### Example\n",
    "\n",
    "#### Example 1\n",
    "Input: nums = [1, 3, 5, 6], target = 5 \\\n",
    "Output: 2\n",
    "\n",
    "#### Example 2\n",
    "Input: nums = [1, 3, 5, 6], target = 2 \\\n",
    "Output: 1\n",
    "\n",
    "#### Example 3\n",
    "Input: nums = [1, 3, 5, 6], target = 7 \\\n",
    "Output: 4\n",
    "\n",
    "#### Example 4\n",
    "Input: nums = [1, 3, 5, 6], target = 0 \\\n",
    "Output: 0\n"
   ]
  },
  {
   "cell_type": "markdown",
   "metadata": {},
   "source": [
    "### Solution"
   ]
  },
  {
   "cell_type": "code",
   "execution_count": 1,
   "metadata": {},
   "outputs": [],
   "source": [
    "def sip(nums, target):\n",
    "    pass"
   ]
  },
  {
   "cell_type": "markdown",
   "metadata": {},
   "source": [
    "### Test"
   ]
  },
  {
   "cell_type": "code",
   "execution_count": 2,
   "metadata": {},
   "outputs": [
    {
     "name": "stdout",
     "output_type": "stream",
     "text": [
      "i: nums=[1, 3, 5, 6], target=5\n",
      "o: position=None\n",
      "\n",
      "i: nums=[1, 3, 5, 6], target=2\n",
      "o: position=None\n",
      "\n",
      "i: nums=[1, 3, 5, 6], target=7\n",
      "o: position=None\n",
      "\n",
      "i: nums=[1, 3, 5, 6], target=0\n",
      "o: position=None\n",
      "\n",
      "i: nums=[1, 3, 5, 6], target=4\n",
      "o: position=None\n",
      "\n"
     ]
    }
   ],
   "source": [
    "def test(nums, target):\n",
    "    result = sip(nums, target)\n",
    "    \n",
    "    print(\"i: nums={}, target={}\".format(nums, target))\n",
    "    print(\"o: position={}\".format(result))\n",
    "    print()\n",
    "    \n",
    "# example test 1\n",
    "test([1, 3, 5, 6], 5)\n",
    "\n",
    "# example test 2\n",
    "test([1, 3, 5, 6], 2)\n",
    "\n",
    "# example test 3\n",
    "test([1, 3, 5, 6], 7)\n",
    "\n",
    "# example test 4\n",
    "test([1, 3, 5, 6], 0)\n",
    "\n",
    "# test\n",
    "test([1, 3, 5, 6], 4)\n"
   ]
  }
 ],
 "metadata": {
  "kernelspec": {
   "display_name": "Python 3",
   "language": "python",
   "name": "python3"
  },
  "language_info": {
   "codemirror_mode": {
    "name": "ipython",
    "version": 3
   },
   "file_extension": ".py",
   "mimetype": "text/x-python",
   "name": "python",
   "nbconvert_exporter": "python",
   "pygments_lexer": "ipython3",
   "version": "3.8.3"
  }
 },
 "nbformat": 4,
 "nbformat_minor": 4
}
