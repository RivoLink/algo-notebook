{
 "cells": [
  {
   "cell_type": "markdown",
   "metadata": {},
   "source": [
    "### Remove Duplicates from Sorted Array\n",
    "\n",
    "Given a sorted array nums, remove the duplicates in-place such that each element appear only once and return the new length.\n",
    "\n",
    "Do not allocate extra space for another array, you must do this by modifying the input array in-place with O(1) extra memory.\n"
   ]
  },
  {
   "cell_type": "markdown",
   "metadata": {},
   "source": [
    "### Example\n",
    "\n",
    "#### Example 1\n",
    "Given nums = [1, 1, 2]\n",
    "\n",
    "Your function should return length = 2, with the first two elements of nums being 1 and 2 respectively.\n",
    "\n",
    "It doesn't matter what you leave beyond the returned length.\n",
    "\n",
    "#### Example 2\n",
    "Given nums = [0, 0, 1, 1, 1, 2, 2, 3, 3, 4]\n",
    "\n",
    "Your function should return length = 5, with the first five elements of nums being modified to 0, 1, 2, 3 and 4 respectively.\n",
    "\n",
    "It doesn't matter what values are set beyond the returned length.\n"
   ]
  },
  {
   "cell_type": "markdown",
   "metadata": {},
   "source": [
    "### Clarification:\n",
    "\n",
    "Confused why the returned value is an integer but your answer is an array?\n",
    "\n",
    "Note that the input array is passed in by reference, which means modification to the input array will be known to the caller as well.\n",
    "\n",
    "Internally you can think of this:\n",
    "\n",
    "// nums is passed in by reference. \\\n",
    "(i.e., without making a copy) \\\n",
    "`len = remove_duplicates(nums)`\n",
    "\n",
    "// any modification to nums in your function would be known by the caller.\n",
    "\n",
    "// using the length returned by your function, it prints the first len elements. \\\n",
    "`\n",
    "for i in range(len):\n",
    "    print(nums[i])\n",
    "`"
   ]
  },
  {
   "cell_type": "markdown",
   "metadata": {},
   "source": [
    "### Solution"
   ]
  },
  {
   "cell_type": "code",
   "execution_count": 1,
   "metadata": {},
   "outputs": [],
   "source": [
    "def rdfa(nums):\n",
    "    newi = 0\n",
    "    \n",
    "    for i in range(1, len(nums)):\n",
    "        \n",
    "        if nums[newi] != nums[i]:\n",
    "            newi += 1\n",
    "            nums[newi] = nums[i]\n",
    "            \n",
    "    return newi + 1\n",
    "        "
   ]
  },
  {
   "cell_type": "markdown",
   "metadata": {},
   "source": [
    "### Test"
   ]
  },
  {
   "cell_type": "code",
   "execution_count": 2,
   "metadata": {},
   "outputs": [
    {
     "name": "stdout",
     "output_type": "stream",
     "text": [
      "i: [1, 1, 2]\n",
      "o: [1, 2, 2], len=2\n",
      "\n",
      "i: [0, 0, 1, 1, 1, 2, 2, 3, 3, 4]\n",
      "o: [0, 1, 2, 3, 4, 2, 2, 3, 3, 4], len=5\n",
      "\n"
     ]
    }
   ],
   "source": [
    "def test(nums):\n",
    "    print(\"i: {}\".format(nums))\n",
    "    result = rdfa(nums)\n",
    "    print(\"o: {}, len={}\".format(nums, result))\n",
    "    print()\n",
    "    \n",
    "# example test 1\n",
    "test([1, 1, 2])\n",
    "\n",
    "# example test 2\n",
    "test([0, 0, 1, 1, 1, 2, 2, 3, 3, 4])\n"
   ]
  }
 ],
 "metadata": {
  "kernelspec": {
   "display_name": "Python 3",
   "language": "python",
   "name": "python3"
  },
  "language_info": {
   "codemirror_mode": {
    "name": "ipython",
    "version": 3
   },
   "file_extension": ".py",
   "mimetype": "text/x-python",
   "name": "python",
   "nbconvert_exporter": "python",
   "pygments_lexer": "ipython3",
   "version": "3.8.3"
  }
 },
 "nbformat": 4,
 "nbformat_minor": 4
}
