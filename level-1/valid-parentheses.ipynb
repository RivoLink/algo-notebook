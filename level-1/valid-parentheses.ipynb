{
 "cells": [
  {
   "cell_type": "markdown",
   "metadata": {},
   "source": [
    "### Valid Parentheses\n",
    "\n",
    "Given a string containing just the characters '(', ')', '{', '}, '\\[' and '\\]', determine if the input string is valid.\n",
    "\n",
    "An input string is valid if: \\\n",
    "\\*Open brackets must be closed by the same type of brackets. \\\n",
    "\\*Open brackets must be closed in the correct order.\n",
    "\n",
    "#### Note\n",
    "An empty string is also considered valid,\n"
   ]
  },
  {
   "cell_type": "markdown",
   "metadata": {},
   "source": [
    "### Example\n",
    "\n",
    "#### Example 1\n",
    "Input: \"()\" \\\n",
    "Output: true\n",
    "\n",
    "#### Example 2\n",
    "Input: \"()\\[\\]{}\" \\\n",
    "Output: true\n",
    "\n",
    "#### Example 3\n",
    "Input: \"(\\]\" \\\n",
    "Output: false\n",
    "\n",
    "#### Example 4\n",
    "Input: \"([)]\" \\\n",
    "Output: false\n",
    "\n",
    "#### Example 5\n",
    "Input \"{\\[\\]}\" \\\n",
    "Output: true\n"
   ]
  },
  {
   "cell_type": "markdown",
   "metadata": {},
   "source": [
    "### Solution"
   ]
  },
  {
   "cell_type": "code",
   "execution_count": 1,
   "metadata": {},
   "outputs": [],
   "source": [
    "from math import ceil"
   ]
  },
  {
   "cell_type": "code",
   "execution_count": 2,
   "metadata": {
    "scrolled": true
   },
   "outputs": [
    {
     "name": "stdout",
     "output_type": "stream",
     "text": [
      "True\n"
     ]
    }
   ],
   "source": [
    "keys = {\n",
    "    ')': 1,\n",
    "    '}': 2,\n",
    "    ']': 3,\n",
    "    '[': -3,\n",
    "    '{': -2,\n",
    "    '(': -1,\n",
    "}\n",
    "\n",
    "def vp(text):\n",
    "\n",
    "    si = 0\n",
    "    stack = [0]*ceil(len(text)/2)\n",
    "\n",
    "    for c in text:\n",
    "\n",
    "        key = keys.get(c)\n",
    "\n",
    "        if key < 0:\n",
    "            stack[si] = key\n",
    "            si += 1\n",
    "        else:\n",
    "            si -= 1\n",
    "            \n",
    "            if stack[si] + key:\n",
    "                return False\n",
    "\n",
    "    return si == 0\n",
    "        \n",
    "print(vp('()'))"
   ]
  },
  {
   "cell_type": "markdown",
   "metadata": {},
   "source": [
    "### Test"
   ]
  },
  {
   "cell_type": "code",
   "execution_count": 3,
   "metadata": {},
   "outputs": [
    {
     "name": "stdout",
     "output_type": "stream",
     "text": [
      "i: \"()\"\n",
      "o: True\n",
      "\n",
      "i: \"()[]{}\"\n",
      "o: True\n",
      "\n",
      "i: \"(]\"\n",
      "o: False\n",
      "\n",
      "i: \"([)]\"\n",
      "o: False\n",
      "\n",
      "i: \"{[]}\"\n",
      "o: True\n",
      "\n",
      "i: \"(()\"\n",
      "o: False\n",
      "\n",
      "i: \"\"\n",
      "o: True\n",
      "\n"
     ]
    }
   ],
   "source": [
    "def test(text):\n",
    "    result = vp(text)\n",
    "    \n",
    "    print(\"i: \\\"{}\\\"\".format(text))\n",
    "    print(\"o: {}\".format(result))\n",
    "    print()\n",
    "    \n",
    "# example test 1\n",
    "test('()')\n",
    "\n",
    "# example test 2\n",
    "test('()[]{}')\n",
    "\n",
    "# example test 3\n",
    "test('(]')\n",
    "\n",
    "# example test 4\n",
    "test('([)]')\n",
    "\n",
    "# example test 5\n",
    "test('{[]}')\n",
    "\n",
    "# test \n",
    "test('(()')\n",
    "\n",
    "# test \n",
    "test('')\n",
    "    "
   ]
  }
 ],
 "metadata": {
  "kernelspec": {
   "display_name": "Python 3",
   "language": "python",
   "name": "python3"
  },
  "language_info": {
   "codemirror_mode": {
    "name": "ipython",
    "version": 3
   },
   "file_extension": ".py",
   "mimetype": "text/x-python",
   "name": "python",
   "nbconvert_exporter": "python",
   "pygments_lexer": "ipython3",
   "version": "3.8.3"
  }
 },
 "nbformat": 4,
 "nbformat_minor": 4
}
