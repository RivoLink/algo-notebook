{
 "cells": [
  {
   "cell_type": "markdown",
   "metadata": {},
   "source": [
    "### Reverse Integer\n",
    "\n",
    "Given a 32-bit signed integer reverse digits of an integer.\n",
    "\n",
    "#### Note:\n",
    "\n",
    "Assume we are dealing with an environment which could only store integer within the 32-bit signed integer range: [-231, 231 - 1].\n",
    "\n",
    "For the purpose of this problem, assume that your function returns 0 when the reversed integer overflows.\n",
    "\n",
    "\n"
   ]
  },
  {
   "cell_type": "markdown",
   "metadata": {},
   "source": [
    "### Example \n",
    "#### Example 1\n",
    "Input: 123 \\\n",
    "Output: 321\n",
    "\n",
    "#### Example 2\n",
    "Input: -123 \\\n",
    "Output: -321\n",
    "\n",
    "#### Example 3\n",
    "Input: 120 \\\n",
    "Output: 21\n"
   ]
  },
  {
   "cell_type": "markdown",
   "metadata": {},
   "source": [
    "### Solution"
   ]
  },
  {
   "cell_type": "code",
   "execution_count": 1,
   "metadata": {},
   "outputs": [
    {
     "name": "stdout",
     "output_type": "stream",
     "text": [
      "-71\n"
     ]
    }
   ],
   "source": [
    "def ri(num):\n",
    "    neg = -1 if num < 0 else 1\n",
    "    return neg * int(str(abs(num))[::-1])\n",
    "\n",
    "print(ri(-170))"
   ]
  },
  {
   "cell_type": "markdown",
   "metadata": {},
   "source": [
    "### Test"
   ]
  },
  {
   "cell_type": "code",
   "execution_count": 2,
   "metadata": {},
   "outputs": [
    {
     "name": "stdout",
     "output_type": "stream",
     "text": [
      "num: 123\n",
      "reversed: 321\n",
      "\n",
      "num: -123\n",
      "reversed: -321\n",
      "\n",
      "num: 120\n",
      "reversed: 21\n",
      "\n",
      "num: -1230\n",
      "reversed: -321\n",
      "\n"
     ]
    }
   ],
   "source": [
    "def test(num):\n",
    "    result = ri(num)\n",
    "    \n",
    "    print(\"num: {}\".format(num))\n",
    "    print(\"reversed: {}\".format(result))\n",
    "    print()\n",
    "    \n",
    "# example test 1\n",
    "test(123)\n",
    "\n",
    "# example test 2\n",
    "test(-123)\n",
    "\n",
    "# example test 3\n",
    "test(120)\n",
    "\n",
    "# combined test\n",
    "test(-1230)"
   ]
  }
 ],
 "metadata": {
  "kernelspec": {
   "display_name": "Python 3",
   "language": "python",
   "name": "python3"
  },
  "language_info": {
   "codemirror_mode": {
    "name": "ipython",
    "version": 3
   },
   "file_extension": ".py",
   "mimetype": "text/x-python",
   "name": "python",
   "nbconvert_exporter": "python",
   "pygments_lexer": "ipython3",
   "version": "3.8.3"
  }
 },
 "nbformat": 4,
 "nbformat_minor": 4
}
