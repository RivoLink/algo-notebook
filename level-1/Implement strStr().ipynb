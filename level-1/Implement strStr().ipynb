{
 "cells": [
  {
   "cell_type": "markdown",
   "metadata": {},
   "source": [
    "### Implement strStr()\n",
    "\n",
    "Return the index of the first occurrence of needle in haystack, or -1 if needle is not part of haystack.\n"
   ]
  },
  {
   "cell_type": "markdown",
   "metadata": {},
   "source": [
    "### Example \n",
    "\n",
    "#### Example 1\n",
    "Input: haystack = \"hello\", needle =\n",
    "\"ll\" \\\n",
    "Output: 2\n",
    "\n",
    "#### Example 2\n",
    "Input: haystack = \"aaaaa\" , needle =\n",
    "\"bba\" \\\n",
    "Output: -1\n"
   ]
  },
  {
   "cell_type": "markdown",
   "metadata": {},
   "source": [
    "### Clarification\n",
    "\n",
    "What should we return when needle is an empty string? This is a great question to ask during an interview.\n",
    "\n",
    "For the purpose of this problem, we will return 0 when needle is an empty string. This is consistent to C's strstr() and Java's indexOf().\n"
   ]
  },
  {
   "cell_type": "markdown",
   "metadata": {},
   "source": [
    "### Solution"
   ]
  },
  {
   "cell_type": "code",
   "execution_count": 1,
   "metadata": {},
   "outputs": [],
   "source": [
    "def strstr(haystack, needle):\n",
    "    \n",
    "    pos = 0\n",
    "    \n",
    "    if not needle:\n",
    "        return 0\n",
    "    \n",
    "    for i in range(len(haystack)):\n",
    "        \n",
    "        if haystack[i] == needle[pos]:\n",
    "            pos += 1\n",
    "            \n",
    "            if pos == len(needle):\n",
    "                return i - (pos-1)\n",
    "            \n",
    "        elif haystack[i] == needle[0]:\n",
    "            pos = 1\n",
    "            \n",
    "            if len(needle) == 1:\n",
    "                return i\n",
    "            \n",
    "        elif pos:\n",
    "            pos = 0\n",
    "            \n",
    "    return -1\n"
   ]
  },
  {
   "cell_type": "code",
   "execution_count": null,
   "metadata": {},
   "outputs": [],
   "source": [
    "# solution/RivoLink\n",
    "\n",
    "def strstr(haystack, needle):\n",
    "    return 0\n",
    "\n"
   ]
  },
  {
   "cell_type": "markdown",
   "metadata": {},
   "source": [
    "### Test"
   ]
  },
  {
   "cell_type": "code",
   "execution_count": 2,
   "metadata": {},
   "outputs": [
    {
     "name": "stdout",
     "output_type": "stream",
     "text": [
      "haystack = hello, needle=ll\n",
      "position: 2\n",
      "\n",
      "haystack = aaaaa, needle=bba\n",
      "position: -1\n",
      "\n",
      "haystack = hello, needle=lo\n",
      "position: 3\n",
      "\n"
     ]
    }
   ],
   "source": [
    "def test(haystack, needle):\n",
    "    result = strstr(haystack, needle)\n",
    "    \n",
    "    print(\"haystack = {}, needle={}\".format(haystack, needle))\n",
    "    print(\"position: {}\".format(result))\n",
    "    print()\n",
    "    \n",
    "# example test 1\n",
    "test('hello', 'll')\n",
    "\n",
    "# example test 2\n",
    "test('aaaaa', 'bba')\n",
    "\n",
    "# test\n",
    "test('hello', 'lo')\n"
   ]
  }
 ],
 "metadata": {
  "kernelspec": {
   "display_name": "Python 3",
   "language": "python",
   "name": "python3"
  },
  "language_info": {
   "codemirror_mode": {
    "name": "ipython",
    "version": 3
   },
   "file_extension": ".py",
   "mimetype": "text/x-python",
   "name": "python",
   "nbconvert_exporter": "python",
   "pygments_lexer": "ipython3",
   "version": "3.8.5"
  }
 },
 "nbformat": 4,
 "nbformat_minor": 4
}
