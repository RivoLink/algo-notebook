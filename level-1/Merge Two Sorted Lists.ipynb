{
 "cells": [
  {
   "cell_type": "markdown",
   "metadata": {},
   "source": [
    "### Merge Two Sorted Lists\n",
    "\n",
    "Merge two sorted linked lists and return it as a new list. The new list should be made by splicing together the nodes of the first two lists.\n"
   ]
  },
  {
   "cell_type": "markdown",
   "metadata": {},
   "source": [
    "### Example\n",
    "Input: 1->2->4, 1->3->4 \\\n",
    "Output: 1->1->2->3->4->4\n",
    "\n",
    "\n"
   ]
  },
  {
   "cell_type": "markdown",
   "metadata": {},
   "source": [
    "### Solution"
   ]
  },
  {
   "cell_type": "code",
   "execution_count": 1,
   "metadata": {},
   "outputs": [],
   "source": [
    "class ListNode:\n",
    "\n",
    "    def __init__(self, data):\n",
    "        self.data = data\n",
    "        self.next = None\n",
    "\n",
    "    def __str__(self):\n",
    "        \n",
    "        s, temp = '', self\n",
    "        \n",
    "        while temp:\n",
    "            s += str(temp.data)\n",
    "            temp = temp.next\n",
    "            \n",
    "            if temp:\n",
    "                s += '->'\n",
    "                \n",
    "        return s\n",
    "            \n",
    "\n",
    "def mtsl(head1, head2):\n",
    "\n",
    "    merged = ListNode(0)\n",
    "    temp = merged\n",
    "\n",
    "    while head1 and head2:\n",
    "\n",
    "        if head1.data < head2.data:\n",
    "            temp.next = head1\n",
    "            head1 = head1.next\n",
    "        else:\n",
    "            temp.next = head2\n",
    "            head2 = head2.next\n",
    "\n",
    "        temp = temp.next\n",
    "\n",
    "    temp.next = head1 if head1 else head2\n",
    "    return merged.next\n"
   ]
  },
  {
   "cell_type": "markdown",
   "metadata": {},
   "source": [
    "### Test"
   ]
  },
  {
   "cell_type": "code",
   "execution_count": 2,
   "metadata": {},
   "outputs": [
    {
     "name": "stdout",
     "output_type": "stream",
     "text": [
      "list1: 1->2->4\n",
      "list2: 1->3->4\n",
      "merged: 1->1->2->3->4->4\n"
     ]
    }
   ],
   "source": [
    "n1 = ListNode(1)\n",
    "n2 = ListNode(2)\n",
    "n3 = ListNode(4)\n",
    "\n",
    "nA = ListNode(1)\n",
    "nB = ListNode(3)\n",
    "nC = ListNode(4)\n",
    "\n",
    "n1.next = n2\n",
    "n2.next = n3\n",
    "\n",
    "nA.next = nB\n",
    "nB.next = nC\n",
    "\n",
    "print(\"list1: {}\".format(n1))\n",
    "print(\"list2: {}\".format(nA))\n",
    "print(\"merged: {}\".format(mtsl(n1, nA)))\n"
   ]
  }
 ],
 "metadata": {
  "kernelspec": {
   "display_name": "Python 3",
   "language": "python",
   "name": "python3"
  },
  "language_info": {
   "codemirror_mode": {
    "name": "ipython",
    "version": 3
   },
   "file_extension": ".py",
   "mimetype": "text/x-python",
   "name": "python",
   "nbconvert_exporter": "python",
   "pygments_lexer": "ipython3",
   "version": "3.8.3"
  }
 },
 "nbformat": 4,
 "nbformat_minor": 4
}
