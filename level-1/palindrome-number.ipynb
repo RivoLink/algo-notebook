{
 "cells": [
  {
   "cell_type": "markdown",
   "metadata": {},
   "source": [
    "### Palindrome Number\n",
    "\n",
    "Determine whether an integer is a palindrome. An integer is a palindr ome when it reads the same backward as forward.\n"
   ]
  },
  {
   "cell_type": "markdown",
   "metadata": {},
   "source": [
    "### Example\n",
    "\n",
    "#### Example 1\n",
    "Input: 121 \\\n",
    "Output: true\n",
    "\n",
    "#### Example 2\n",
    "Input: -121 \\\n",
    "Output: false \\\n",
    "Explanation: From left to right, it reads -121. From right to left, it becomes 121-. Therefore it is not a palindrome.\n",
    "\n",
    "#### Example 3\n",
    "Input: 10 \\\n",
    "Output: false \\\n",
    "Explanation: Reads 01 from right to left. Therefore it is not a palindrome.\n",
    "\n",
    "#### Follow up:\n",
    "Could you solve it without converting the integer to a string?\n"
   ]
  },
  {
   "cell_type": "markdown",
   "metadata": {},
   "source": [
    "### Solution"
   ]
  },
  {
   "cell_type": "code",
   "execution_count": 1,
   "metadata": {},
   "outputs": [
    {
     "name": "stdout",
     "output_type": "stream",
     "text": [
      "True\n"
     ]
    }
   ],
   "source": [
    "def pn(num):\n",
    "    \n",
    "    if not num%10 or num<0:\n",
    "        return False\n",
    "    \n",
    "    result, temp = 0, num\n",
    "    \n",
    "    while temp>0:\n",
    "        result = result*10 + temp%10\n",
    "        temp = int(temp/10)\n",
    "        \n",
    "    return result == num\n",
    "\n",
    "print(pn(121))"
   ]
  },
  {
   "cell_type": "markdown",
   "metadata": {},
   "source": [
    "### Test"
   ]
  },
  {
   "cell_type": "code",
   "execution_count": 2,
   "metadata": {},
   "outputs": [
    {
     "name": "stdout",
     "output_type": "stream",
     "text": [
      "int: 121\n",
      "is pn: True\n",
      "\n",
      "int: -121\n",
      "is pn: False\n",
      "\n",
      "int: 10\n",
      "is pn: False\n",
      "\n",
      "int: 1221\n",
      "is pn: True\n",
      "\n"
     ]
    }
   ],
   "source": [
    "def test(num):\n",
    "    result = pn(num)\n",
    "    \n",
    "    print(\"int: {}\".format(num))\n",
    "    print(\"is pn: {}\".format(result))\n",
    "    print()\n",
    "    \n",
    "# example test 1\n",
    "test(121)\n",
    "\n",
    "# example test 2\n",
    "test(-121)\n",
    "\n",
    "# example test 3\n",
    "test(10)\n",
    "\n",
    "# test \n",
    "test(1221)\n"
   ]
  }
 ],
 "metadata": {
  "kernelspec": {
   "display_name": "Python 3",
   "language": "python",
   "name": "python3"
  },
  "language_info": {
   "codemirror_mode": {
    "name": "ipython",
    "version": 3
   },
   "file_extension": ".py",
   "mimetype": "text/x-python",
   "name": "python",
   "nbconvert_exporter": "python",
   "pygments_lexer": "ipython3",
   "version": "3.8.3"
  }
 },
 "nbformat": 4,
 "nbformat_minor": 4
}
