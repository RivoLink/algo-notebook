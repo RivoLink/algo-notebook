{
 "cells": [
  {
   "cell_type": "markdown",
   "metadata": {},
   "source": [
    "### Remove Element\n",
    "\n",
    "Given an array nums and a value val, remove all instances of that value in-place and return the new length.\n",
    "\n",
    "Do not allocate extra space for another array, you must do this by modifying the input array in-place with O(1) extra memory.\n",
    "\n",
    "The order of elements can be changed. It doesn't matter what you leave beyond the new length.\n"
   ]
  },
  {
   "cell_type": "markdown",
   "metadata": {},
   "source": [
    "### Example\n",
    "\n",
    "#### Example 1\n",
    "Given nums = [3, 2, 2, 3], val = 3\n",
    "\n",
    "Your function should return length = 2, with the first two elements of nums being 2.\n",
    "\n",
    "It doesn't matter what you leave beyond the returned length.\n",
    "\n",
    "#### Example 2\n",
    "Given nums = [0, 1, 2, 2, 3, 0, 4, 2], val = 2\n",
    "\n",
    "Your function should return length = 5, with the first five elements of nums containing 0, 1, 3, 0 and 4.\n",
    "\n",
    "Note that the order of those five elements can be arbitrary.\n",
    "\n",
    "It doesn't matter what values are set beyond the returned length.\n"
   ]
  },
  {
   "cell_type": "markdown",
   "metadata": {},
   "source": [
    "### Clarification:\n",
    "\n",
    "Confused why the returned value is an integer but your answer is an array?\n",
    "\n",
    "Note that the input array is passed in by reference, which means modification to the input array will be known to the caller as well.\n",
    "\n",
    "Internally you can think of this:\n",
    "\n",
    "// nums is passed in by reference. \\\n",
    "(1.e., without making a copy) \\\n",
    "`len = remove_element(nums, val)`\n",
    "\n",
    "// any modification to nums in your function would be known by the caller.\n",
    "\n",
    "// using the length returned by your function, it prints the first len elements. \\\n",
    "`\n",
    "for i in range(len):\n",
    "    print(nums[i])\n",
    "`\n"
   ]
  },
  {
   "cell_type": "markdown",
   "metadata": {},
   "source": [
    "### Solution"
   ]
  },
  {
   "cell_type": "code",
   "execution_count": 1,
   "metadata": {},
   "outputs": [],
   "source": [
    "def re(nums, val):\n",
    "    \n",
    "    i, n = 0, len(nums)\n",
    "    \n",
    "    while i < n:\n",
    "        \n",
    "        if nums[i] == val:\n",
    "            nums[i] = nums[n-1]\n",
    "            n -= 1\n",
    "        else:\n",
    "            i += 1\n",
    "            \n",
    "    return n"
   ]
  },
  {
   "cell_type": "code",
   "execution_count": 2,
   "metadata": {},
   "outputs": [],
   "source": [
    "# if order is important\n",
    "\n",
    "def re2(nums, val):\n",
    "    newi = 0\n",
    "    \n",
    "    for num in nums:\n",
    "    \n",
    "        if num == val:\n",
    "            continue\n",
    "            \n",
    "        nums[newi] = num\n",
    "        newi += 1\n",
    "        \n",
    "    return newi\n"
   ]
  },
  {
   "cell_type": "markdown",
   "metadata": {},
   "source": [
    "### Test"
   ]
  },
  {
   "cell_type": "code",
   "execution_count": 3,
   "metadata": {},
   "outputs": [
    {
     "name": "stdout",
     "output_type": "stream",
     "text": [
      "i: [3, 2, 2, 3], val=3\n",
      "o: [2, 2, 2, 3], len=2\n",
      "\n",
      "i: [0, 1, 2, 2, 3, 0, 4, 2], val=2\n",
      "o: [0, 1, 4, 0, 3, 0, 4, 2], len=5\n",
      "\n"
     ]
    }
   ],
   "source": [
    "def test(nums, val):\n",
    "    print(\"i: {}, val={}\".format(nums, val))\n",
    "    result = re(nums, val)\n",
    "    print(\"o: {}, len={}\".format(nums, result))\n",
    "    print()\n",
    "    \n",
    "# example test 1\n",
    "test([3, 2, 2, 3], 3)\n",
    "\n",
    "# example test 2\n",
    "test([0, 1, 2, 2, 3, 0, 4, 2], 2)\n"
   ]
  }
 ],
 "metadata": {
  "kernelspec": {
   "display_name": "Python 3",
   "language": "python",
   "name": "python3"
  },
  "language_info": {
   "codemirror_mode": {
    "name": "ipython",
    "version": 3
   },
   "file_extension": ".py",
   "mimetype": "text/x-python",
   "name": "python",
   "nbconvert_exporter": "python",
   "pygments_lexer": "ipython3",
   "version": "3.8.3"
  }
 },
 "nbformat": 4,
 "nbformat_minor": 4
}
