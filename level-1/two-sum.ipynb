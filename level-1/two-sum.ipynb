{
 "cells": [
  {
   "cell_type": "markdown",
   "metadata": {},
   "source": [
    "### Two Sum\n",
    "\n",
    "Given an array of integers, return\n",
    "indices of the two numbers such\n",
    "\n",
    "that they add up to a specific\n",
    "target.\n",
    "\n",
    "You may assume that each input\n",
    "would have exactly one solution,\n",
    "and you may not use the same\n",
    "element twice."
   ]
  },
  {
   "cell_type": "markdown",
   "metadata": {},
   "source": [
    "### Example\n",
    "\n",
    "Given nums = [2, 7, 11, 15], target = 9,\n",
    "\n",
    "Because nums [0] + nums [1] = 2 + 7 = 9\n",
    "\n",
    "return [0, 1]."
   ]
  },
  {
   "cell_type": "markdown",
   "metadata": {},
   "source": [
    "### Solution"
   ]
  },
  {
   "cell_type": "code",
   "execution_count": 1,
   "metadata": {},
   "outputs": [
    {
     "name": "stdout",
     "output_type": "stream",
     "text": [
      "[0, 1]\n"
     ]
    }
   ],
   "source": [
    "# basic algorithm\n",
    "def two_sum(nums, target):\n",
    "    for i,num in enumerate(nums):\n",
    "        if num > target:\n",
    "            return [-1, -1]\n",
    "            \n",
    "        for j,complement in enumerate(nums[i+1:], i+1):\n",
    "            if (num + complement) == target:\n",
    "                return [i, j]\n",
    "    \n",
    "    return [-1, -1];\n",
    "\n",
    "print(two_sum([2, 7, 11, 15], 9))"
   ]
  },
  {
   "cell_type": "code",
   "execution_count": 2,
   "metadata": {},
   "outputs": [
    {
     "name": "stdout",
     "output_type": "stream",
     "text": [
      "[0, 1]\n"
     ]
    }
   ],
   "source": [
    "# using index\n",
    "def two_sum2(nums, target):\n",
    "    for i,num in enumerate(nums):\n",
    "        if num > target:\n",
    "            return [-1, -1]\n",
    "        \n",
    "        try:\n",
    "            j = nums.index(target - num)\n",
    "            return [i, j]\n",
    "        \n",
    "        except ValueError:\n",
    "            pass\n",
    "    \n",
    "    return [-1, -1];\n",
    "\n",
    "print(two_sum2([2, 7, 11, 15], 9))"
   ]
  },
  {
   "cell_type": "markdown",
   "metadata": {},
   "source": [
    "### Tests"
   ]
  },
  {
   "cell_type": "code",
   "execution_count": 4,
   "metadata": {},
   "outputs": [
    {
     "name": "stdout",
     "output_type": "stream",
     "text": [
      "nums: [2, 7, 11, 15]\n",
      "target: 9\n",
      "indexs: [0, 1]\n",
      "\n",
      "nums: (1, 3, 14, 25)\n",
      "target: 17\n",
      "indexs: [1, 2]\n",
      "\n",
      "nums: (5, 10, 15, 20)\n",
      "target: 35\n",
      "indexs: [2, 3]\n",
      "\n",
      "nums: (9, 19, 29, 39)\n",
      "target: 48\n",
      "indexs: [0, 3]\n",
      "\n",
      "nums: (0, 1, 2, 3)\n",
      "target: 2\n",
      "indexs: [0, 2]\n",
      "\n"
     ]
    }
   ],
   "source": [
    "def test(nums, target):\n",
    "    indexs = two_sum(nums, target)\n",
    "    \n",
    "    print(\"nums: {}\".format(nums))\n",
    "    print(\"target: {}\".format(target))\n",
    "    print(\"indexs: {}\".format(indexs))\n",
    "    print()\n",
    "\n",
    "# test 1\n",
    "test([2, 7, 11, 15], 9)\n",
    "\n",
    "# test 2\n",
    "test((1, 3, 14, 25), 17)\n",
    "\n",
    "# test 3\n",
    "test((5, 10, 15, 20), 35)\n",
    "\n",
    "# test 4\n",
    "test((9, 19, 29, 39), 48)\n",
    "\n",
    "# test 5\n",
    "test((0, 1, 2, 3), 2)"
   ]
  }
 ],
 "metadata": {
  "kernelspec": {
   "display_name": "Python 3",
   "language": "python",
   "name": "python3"
  },
  "language_info": {
   "codemirror_mode": {
    "name": "ipython",
    "version": 3
   },
   "file_extension": ".py",
   "mimetype": "text/x-python",
   "name": "python",
   "nbconvert_exporter": "python",
   "pygments_lexer": "ipython3",
   "version": "3.8.3"
  }
 },
 "nbformat": 4,
 "nbformat_minor": 4
}
